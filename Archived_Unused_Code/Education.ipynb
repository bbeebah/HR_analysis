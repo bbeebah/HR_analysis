{
  "nbformat": 4,
  "nbformat_minor": 0,
  "metadata": {
    "colab": {
      "name": "Education.ipynb",
      "version": "0.3.2",
      "provenance": []
    },
    "kernelspec": {
      "name": "python3",
      "display_name": "Python 3"
    }
  },
  "cells": [
    {
      "metadata": {
        "id": "zDEVM22EOcgt",
        "colab_type": "code",
        "colab": {
          "base_uri": "https://localhost:8080/",
          "height": 34
        },
        "outputId": "481125f8-7cb3-4607-ddb8-9c1f518d2f2b"
      },
      "cell_type": "code",
      "source": [
        "import numpy as np\n",
        "import pandas as pd\n",
        "!pip install xlrd"
      ],
      "execution_count": 0,
      "outputs": [
        {
          "output_type": "stream",
          "text": [
            "Requirement already satisfied: xlrd in /usr/local/lib/python3.6/dist-packages (1.1.0)\r\n"
          ],
          "name": "stdout"
        }
      ]
    },
    {
      "metadata": {
        "id": "6bRvMPgSOqLI",
        "colab_type": "code",
        "colab": {
          "resources": {
            "http://localhost:8080/nbextensions/google.colab/files.js": {
              "data": "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",
              "ok": true,
              "headers": [
                [
                  "content-length",
                  "5492"
                ],
                [
                  "content-type",
                  "application/javascript"
                ]
              ],
              "status": 200,
              "status_text": "OK"
            }
          },
          "base_uri": "https://localhost:8080/",
          "height": 73
        },
        "outputId": "0eb8ab7f-d33a-4198-93a4-d6f91feeefb4"
      },
      "cell_type": "code",
      "source": [
        "from google.colab import files\n",
        "\n",
        "uploaded = files.upload()"
      ],
      "execution_count": 0,
      "outputs": [
        {
          "output_type": "display_data",
          "data": {
            "text/html": [
              "\n",
              "     <input type=\"file\" id=\"files-24301bfb-1f09-4521-89dc-38a69258fefe\" name=\"files[]\" multiple disabled />\n",
              "     <output id=\"result-24301bfb-1f09-4521-89dc-38a69258fefe\">\n",
              "      Upload widget is only available when the cell has been executed in the\n",
              "      current browser session. Please rerun this cell to enable.\n",
              "      </output>\n",
              "      <script src=\"/nbextensions/google.colab/files.js\"></script> "
            ],
            "text/plain": [
              "<IPython.core.display.HTML object>"
            ]
          },
          "metadata": {
            "tags": []
          }
        },
        {
          "output_type": "stream",
          "text": [
            "Saving Data Thailand HR_analysis.xlsx to Data Thailand HR_analysis.xlsx\n"
          ],
          "name": "stdout"
        }
      ]
    },
    {
      "metadata": {
        "id": "u8LgxHMCPsUA",
        "colab_type": "code",
        "colab": {}
      },
      "cell_type": "code",
      "source": [
        "data_file = pd.ExcelFile('Data Thailand HR_analysis.xlsx')\n",
        "\n",
        "mainDF = pd.read_excel(data_file, 'For Model_to export_v3')\n",
        "edu_Allowance = pd.read_excel(data_file, 'Education allowance')\n",
        "education = pd.read_excel(data_file, 'Education')"
      ],
      "execution_count": 0,
      "outputs": []
    },
    {
      "metadata": {
        "id": "uyFqL6O88UWo",
        "colab_type": "code",
        "colab": {}
      },
      "cell_type": "code",
      "source": [
        "mainDF.drop([ 'Gender', 'Supervisor Serial', 'SUP-Gender (before)',\n",
        "       'SUP-Gender', 'Re-Entry?', 'Active?', 'MPT?', 'Ed Allowance?',\n",
        "       'House Loan?', 'Resign?', 'Birthday', 'Entry Date', 'Action Date',\n",
        "       'SUP-Birthday', 'SUP-Entry Date', 'SUP-Action Date', 'SUP-Active?',\n",
        "       'Earliest Action Date', 'Age @Action','SUP-Age @Action',\n",
        "       'SUP-Exp @Action'], axis=1, inplace=True)"
      ],
      "execution_count": 0,
      "outputs": []
    },
    {
      "metadata": {
        "id": "C25l79o7cgHN",
        "colab_type": "code",
        "colab": {}
      },
      "cell_type": "code",
      "source": [
        "rename_col = {\n",
        "    'Exp @Action':'EmpExp'\n",
        "}\n",
        "mainDF.rename(rename_col, axis=1, inplace=True)"
      ],
      "execution_count": 0,
      "outputs": []
    },
    {
      "metadata": {
        "id": "EFEdvM7P8dKZ",
        "colab_type": "code",
        "colab": {
          "base_uri": "https://localhost:8080/",
          "height": 204
        },
        "outputId": "2d2c9e63-ae51-456b-9473-4ffdcc4f35ae"
      },
      "cell_type": "code",
      "source": [
        "mainDF.head()"
      ],
      "execution_count": 150,
      "outputs": [
        {
          "output_type": "execute_result",
          "data": {
            "text/html": [
              "<div>\n",
              "<style scoped>\n",
              "    .dataframe tbody tr th:only-of-type {\n",
              "        vertical-align: middle;\n",
              "    }\n",
              "\n",
              "    .dataframe tbody tr th {\n",
              "        vertical-align: top;\n",
              "    }\n",
              "\n",
              "    .dataframe thead th {\n",
              "        text-align: right;\n",
              "    }\n",
              "</style>\n",
              "<table border=\"1\" class=\"dataframe\">\n",
              "  <thead>\n",
              "    <tr style=\"text-align: right;\">\n",
              "      <th></th>\n",
              "      <th>Serial Number</th>\n",
              "      <th>EmpExp</th>\n",
              "    </tr>\n",
              "  </thead>\n",
              "  <tbody>\n",
              "    <tr>\n",
              "      <th>0</th>\n",
              "      <td>1</td>\n",
              "      <td>43.778082</td>\n",
              "    </tr>\n",
              "    <tr>\n",
              "      <th>1</th>\n",
              "      <td>2</td>\n",
              "      <td>38.356164</td>\n",
              "    </tr>\n",
              "    <tr>\n",
              "      <th>2</th>\n",
              "      <td>3</td>\n",
              "      <td>39.654795</td>\n",
              "    </tr>\n",
              "    <tr>\n",
              "      <th>3</th>\n",
              "      <td>4</td>\n",
              "      <td>38.273973</td>\n",
              "    </tr>\n",
              "    <tr>\n",
              "      <th>4</th>\n",
              "      <td>5</td>\n",
              "      <td>39.104110</td>\n",
              "    </tr>\n",
              "  </tbody>\n",
              "</table>\n",
              "</div>"
            ],
            "text/plain": [
              "   Serial Number     EmpExp\n",
              "0              1  43.778082\n",
              "1              2  38.356164\n",
              "2              3  39.654795\n",
              "3              4  38.273973\n",
              "4              5  39.104110"
            ]
          },
          "metadata": {
            "tags": []
          },
          "execution_count": 150
        }
      ]
    },
    {
      "metadata": {
        "id": "Q32gw8q68FOB",
        "colab_type": "code",
        "colab": {}
      },
      "cell_type": "code",
      "source": [
        "listOfEduUsed = edu_Allowance['Serial Number'].unique()"
      ],
      "execution_count": 0,
      "outputs": []
    },
    {
      "metadata": {
        "id": "yeBhBKpqdXRw",
        "colab_type": "code",
        "colab": {}
      },
      "cell_type": "code",
      "source": [
        "mainDF['isEduAllowanceUsed'] = np.where(mainDF['Serial Number'].isin(listOfEduUsed),1,0)"
      ],
      "execution_count": 0,
      "outputs": []
    },
    {
      "metadata": {
        "id": "ljd36Ct8ePj8",
        "colab_type": "code",
        "colab": {}
      },
      "cell_type": "code",
      "source": [
        "mainDF['NewAndNotTakeMaster'] = np.where((mainDF['EmpExp'] <5) & (mainDF['isEduAllowanceUsed'] ==0),1,0)"
      ],
      "execution_count": 0,
      "outputs": []
    },
    {
      "metadata": {
        "id": "MOH3orCmgBUZ",
        "colab_type": "code",
        "colab": {
          "base_uri": "https://localhost:8080/",
          "height": 204
        },
        "outputId": "e019f4b6-b385-4057-9bf9-c19b438744e4"
      },
      "cell_type": "code",
      "source": [
        "mainDF.head()"
      ],
      "execution_count": 154,
      "outputs": [
        {
          "output_type": "execute_result",
          "data": {
            "text/html": [
              "<div>\n",
              "<style scoped>\n",
              "    .dataframe tbody tr th:only-of-type {\n",
              "        vertical-align: middle;\n",
              "    }\n",
              "\n",
              "    .dataframe tbody tr th {\n",
              "        vertical-align: top;\n",
              "    }\n",
              "\n",
              "    .dataframe thead th {\n",
              "        text-align: right;\n",
              "    }\n",
              "</style>\n",
              "<table border=\"1\" class=\"dataframe\">\n",
              "  <thead>\n",
              "    <tr style=\"text-align: right;\">\n",
              "      <th></th>\n",
              "      <th>Serial Number</th>\n",
              "      <th>EmpExp</th>\n",
              "      <th>isEduAllowanceUsed</th>\n",
              "      <th>NewAndNotTakeMaster</th>\n",
              "    </tr>\n",
              "  </thead>\n",
              "  <tbody>\n",
              "    <tr>\n",
              "      <th>0</th>\n",
              "      <td>1</td>\n",
              "      <td>43.778082</td>\n",
              "      <td>0</td>\n",
              "      <td>0</td>\n",
              "    </tr>\n",
              "    <tr>\n",
              "      <th>1</th>\n",
              "      <td>2</td>\n",
              "      <td>38.356164</td>\n",
              "      <td>0</td>\n",
              "      <td>0</td>\n",
              "    </tr>\n",
              "    <tr>\n",
              "      <th>2</th>\n",
              "      <td>3</td>\n",
              "      <td>39.654795</td>\n",
              "      <td>0</td>\n",
              "      <td>0</td>\n",
              "    </tr>\n",
              "    <tr>\n",
              "      <th>3</th>\n",
              "      <td>4</td>\n",
              "      <td>38.273973</td>\n",
              "      <td>0</td>\n",
              "      <td>0</td>\n",
              "    </tr>\n",
              "    <tr>\n",
              "      <th>4</th>\n",
              "      <td>5</td>\n",
              "      <td>39.104110</td>\n",
              "      <td>0</td>\n",
              "      <td>0</td>\n",
              "    </tr>\n",
              "  </tbody>\n",
              "</table>\n",
              "</div>"
            ],
            "text/plain": [
              "   Serial Number     EmpExp  isEduAllowanceUsed  NewAndNotTakeMaster\n",
              "0              1  43.778082                   0                    0\n",
              "1              2  38.356164                   0                    0\n",
              "2              3  39.654795                   0                    0\n",
              "3              4  38.273973                   0                    0\n",
              "4              5  39.104110                   0                    0"
            ]
          },
          "metadata": {
            "tags": []
          },
          "execution_count": 154
        }
      ]
    },
    {
      "metadata": {
        "id": "FBMJnf3uYL_y",
        "colab_type": "code",
        "colab": {}
      },
      "cell_type": "code",
      "source": [
        "import re"
      ],
      "execution_count": 0,
      "outputs": []
    },
    {
      "metadata": {
        "id": "IhCZlHlPB_zK",
        "colab_type": "code",
        "colab": {}
      },
      "cell_type": "code",
      "source": [
        "rename_col = {\n",
        "    'Institute/location':'Institute'\n",
        "}\n",
        "education.rename(rename_col, axis=1, inplace=True)\n"
      ],
      "execution_count": 0,
      "outputs": []
    },
    {
      "metadata": {
        "id": "Cykri592-aCL",
        "colab_type": "code",
        "colab": {
          "base_uri": "https://localhost:8080/",
          "height": 204
        },
        "outputId": "637b6ea6-afc1-418c-893e-47c90b00a2da"
      },
      "cell_type": "code",
      "source": [
        "education.head()"
      ],
      "execution_count": 157,
      "outputs": [
        {
          "output_type": "execute_result",
          "data": {
            "text/html": [
              "<div>\n",
              "<style scoped>\n",
              "    .dataframe tbody tr th:only-of-type {\n",
              "        vertical-align: middle;\n",
              "    }\n",
              "\n",
              "    .dataframe tbody tr th {\n",
              "        vertical-align: top;\n",
              "    }\n",
              "\n",
              "    .dataframe thead th {\n",
              "        text-align: right;\n",
              "    }\n",
              "</style>\n",
              "<table border=\"1\" class=\"dataframe\">\n",
              "  <thead>\n",
              "    <tr style=\"text-align: right;\">\n",
              "      <th></th>\n",
              "      <th>Serial Number</th>\n",
              "      <th>Start Date (0022)</th>\n",
              "      <th>End Date (0022)</th>\n",
              "      <th>Institute</th>\n",
              "      <th>Certificate Text</th>\n",
              "      <th>Branch of study 1 Text</th>\n",
              "    </tr>\n",
              "  </thead>\n",
              "  <tbody>\n",
              "    <tr>\n",
              "      <th>0</th>\n",
              "      <td>1</td>\n",
              "      <td>1950-01-01</td>\n",
              "      <td>1953-01-01 00:00:00</td>\n",
              "      <td>SUANKWONG SCH.</td>\n",
              "      <td>Attended</td>\n",
              "      <td>General Studies</td>\n",
              "    </tr>\n",
              "    <tr>\n",
              "      <th>1</th>\n",
              "      <td>2</td>\n",
              "      <td>1953-01-01</td>\n",
              "      <td>1957-01-01 00:00:00</td>\n",
              "      <td>VIENGPROU VITHAYA SCH.</td>\n",
              "      <td>Attended</td>\n",
              "      <td>No Specific Branch</td>\n",
              "    </tr>\n",
              "    <tr>\n",
              "      <th>2</th>\n",
              "      <td>3</td>\n",
              "      <td>1949-01-01</td>\n",
              "      <td>1952-01-01 00:00:00</td>\n",
              "      <td>WADTEPSIRIN SCH.</td>\n",
              "      <td>Attended</td>\n",
              "      <td>No Specific Branch</td>\n",
              "    </tr>\n",
              "    <tr>\n",
              "      <th>3</th>\n",
              "      <td>4</td>\n",
              "      <td>1956-01-01</td>\n",
              "      <td>1959-01-01 00:00:00</td>\n",
              "      <td>WATTANA VITHAYA ACADEMY.</td>\n",
              "      <td>Attended</td>\n",
              "      <td>Education</td>\n",
              "    </tr>\n",
              "    <tr>\n",
              "      <th>4</th>\n",
              "      <td>5</td>\n",
              "      <td>1956-06-01</td>\n",
              "      <td>1960-03-31 00:00:00</td>\n",
              "      <td>THAMMASAT UNIVERSITY</td>\n",
              "      <td>Bachelor</td>\n",
              "      <td>Business-Economics</td>\n",
              "    </tr>\n",
              "  </tbody>\n",
              "</table>\n",
              "</div>"
            ],
            "text/plain": [
              "   Serial Number Start Date (0022)      End Date (0022)  \\\n",
              "0              1        1950-01-01  1953-01-01 00:00:00   \n",
              "1              2        1953-01-01  1957-01-01 00:00:00   \n",
              "2              3        1949-01-01  1952-01-01 00:00:00   \n",
              "3              4        1956-01-01  1959-01-01 00:00:00   \n",
              "4              5        1956-06-01  1960-03-31 00:00:00   \n",
              "\n",
              "                  Institute Certificate Text Branch of study 1 Text  \n",
              "0            SUANKWONG SCH.         Attended        General Studies  \n",
              "1    VIENGPROU VITHAYA SCH.         Attended     No Specific Branch  \n",
              "2          WADTEPSIRIN SCH.         Attended     No Specific Branch  \n",
              "3  WATTANA VITHAYA ACADEMY.         Attended              Education  \n",
              "4      THAMMASAT UNIVERSITY         Bachelor     Business-Economics  "
            ]
          },
          "metadata": {
            "tags": []
          },
          "execution_count": 157
        }
      ]
    },
    {
      "metadata": {
        "id": "SVuQ8NjRFjnV",
        "colab_type": "code",
        "colab": {}
      },
      "cell_type": "code",
      "source": [
        "education.drop(['Start Date (0022)', 'End Date (0022)'], axis=1,inplace=True)"
      ],
      "execution_count": 0,
      "outputs": []
    },
    {
      "metadata": {
        "id": "WqQvazi_-G5_",
        "colab_type": "code",
        "colab": {}
      },
      "cell_type": "code",
      "source": [
        "edu_patterns = {\n",
        "    'UNIV' : r'UNIV\\.|\\WU\\.|^U\\.|UNIV|ERSITY|UNI$',\n",
        "    'SCHL' : r'SCH\\S|\\WSCH$|SUKSA',\n",
        "    'INST' : r'\\WINST|^INST',\n",
        "    'COLL' : r'\\WCOLL|^COLL|COL$|COLLEGE',\n",
        "    'CAMP' : r'C..PUS',\n",
        "    'ACAD' : r'ACAD',\n",
        "    'NIDA' : r'NIDA',\n",
        "    'SASI' : r'SASIN',\n",
        "}\n",
        "\n",
        "for name, patt in edu_patterns.items():\n",
        "    education.loc[education['Institute'].str.contains(patt), 'Max_EduInstituteGroup'] = name\n",
        "    \n",
        "    education['Max_EduInstituteGroup'].fillna('OTHR', inplace=True)"
      ],
      "execution_count": 0,
      "outputs": []
    },
    {
      "metadata": {
        "id": "RFnqw1g3ElDZ",
        "colab_type": "code",
        "colab": {}
      },
      "cell_type": "code",
      "source": [
        "def remove_Suffix(institute):\n",
        "        edu_patterns = {\n",
        "            'UNIV' : r'(\\_a)?UNIV\\.|\\WU\\.|^U\\.|(\\_a)?UNIV|(\\_a)?ERSITY|(\\_a)?UNI$',\n",
        "            'SCHL' : r'SCH\\S|\\WSCH$|SUKSA',\n",
        "            'INST' : r'\\WINST|^INST',\n",
        "            'COLL' : r'\\WCOLL|^COLL|COL$|COLLEGE',\n",
        "            'CAMP' : r'C..PUS',\n",
        "            'ACAD' : r'ACAD',\n",
        "            'UNIV' : r'NIDA',\n",
        "            'UNIV' : r'SASIN',\n",
        "        }\n",
        "        for name, patt in edu_patterns.items():\n",
        "              #temp = institute.replace(patt, '')\n",
        "          regexp = re.compile(patt)\n",
        "          if(regexp.search(institute)):\n",
        "              temp = re.sub(patt,'',institute)\n",
        "              return temp;"
      ],
      "execution_count": 0,
      "outputs": []
    },
    {
      "metadata": {
        "id": "74P-d9RLFhEl",
        "colab_type": "code",
        "colab": {}
      },
      "cell_type": "code",
      "source": [
        "education['Institute'] = education['Institute'].apply(remove_Suffix)"
      ],
      "execution_count": 0,
      "outputs": []
    },
    {
      "metadata": {
        "id": "nFfA1z7pbD9g",
        "colab_type": "code",
        "colab": {
          "base_uri": "https://localhost:8080/",
          "height": 204
        },
        "outputId": "922c9229-51ce-474b-d89b-4cdf621e7ef9"
      },
      "cell_type": "code",
      "source": [
        "education.head()"
      ],
      "execution_count": 169,
      "outputs": [
        {
          "output_type": "execute_result",
          "data": {
            "text/html": [
              "<div>\n",
              "<style scoped>\n",
              "    .dataframe tbody tr th:only-of-type {\n",
              "        vertical-align: middle;\n",
              "    }\n",
              "\n",
              "    .dataframe tbody tr th {\n",
              "        vertical-align: top;\n",
              "    }\n",
              "\n",
              "    .dataframe thead th {\n",
              "        text-align: right;\n",
              "    }\n",
              "</style>\n",
              "<table border=\"1\" class=\"dataframe\">\n",
              "  <thead>\n",
              "    <tr style=\"text-align: right;\">\n",
              "      <th></th>\n",
              "      <th>Serial Number</th>\n",
              "      <th>Institute</th>\n",
              "      <th>Certificate Text</th>\n",
              "      <th>Branch of study 1 Text</th>\n",
              "      <th>Max_EduInstituteGroup</th>\n",
              "    </tr>\n",
              "  </thead>\n",
              "  <tbody>\n",
              "    <tr>\n",
              "      <th>0</th>\n",
              "      <td>1</td>\n",
              "      <td>SUANKWONG</td>\n",
              "      <td>Attended</td>\n",
              "      <td>General Studies</td>\n",
              "      <td>SCHL</td>\n",
              "    </tr>\n",
              "    <tr>\n",
              "      <th>1</th>\n",
              "      <td>2</td>\n",
              "      <td>VIENGPROU VITHAYA</td>\n",
              "      <td>Attended</td>\n",
              "      <td>No Specific Branch</td>\n",
              "      <td>SCHL</td>\n",
              "    </tr>\n",
              "    <tr>\n",
              "      <th>2</th>\n",
              "      <td>3</td>\n",
              "      <td>WADTEPSIRIN</td>\n",
              "      <td>Attended</td>\n",
              "      <td>No Specific Branch</td>\n",
              "      <td>SCHL</td>\n",
              "    </tr>\n",
              "    <tr>\n",
              "      <th>3</th>\n",
              "      <td>4</td>\n",
              "      <td>WATTANA VITHAYA EMY.</td>\n",
              "      <td>Attended</td>\n",
              "      <td>Education</td>\n",
              "      <td>ACAD</td>\n",
              "    </tr>\n",
              "    <tr>\n",
              "      <th>4</th>\n",
              "      <td>5</td>\n",
              "      <td>None</td>\n",
              "      <td>Bachelor</td>\n",
              "      <td>Business-Economics</td>\n",
              "      <td>UNIV</td>\n",
              "    </tr>\n",
              "  </tbody>\n",
              "</table>\n",
              "</div>"
            ],
            "text/plain": [
              "   Serial Number             Institute Certificate Text  \\\n",
              "0              1            SUANKWONG          Attended   \n",
              "1              2    VIENGPROU VITHAYA          Attended   \n",
              "2              3          WADTEPSIRIN          Attended   \n",
              "3              4  WATTANA VITHAYA EMY.         Attended   \n",
              "4              5                  None         Bachelor   \n",
              "\n",
              "  Branch of study 1 Text Max_EduInstituteGroup  \n",
              "0        General Studies                  SCHL  \n",
              "1     No Specific Branch                  SCHL  \n",
              "2     No Specific Branch                  SCHL  \n",
              "3              Education                  ACAD  \n",
              "4     Business-Economics                  UNIV  "
            ]
          },
          "metadata": {
            "tags": []
          },
          "execution_count": 169
        }
      ]
    },
    {
      "metadata": {
        "id": "_DVjP-GwbvLJ",
        "colab_type": "code",
        "colab": {}
      },
      "cell_type": "code",
      "source": [
        "import string"
      ],
      "execution_count": 0,
      "outputs": []
    },
    {
      "metadata": {
        "id": "vgPzQqAuasli",
        "colab_type": "code",
        "colab": {}
      },
      "cell_type": "code",
      "source": [
        "def removeDot(institute):\n",
        "  return institute.replace('.','')"
      ],
      "execution_count": 0,
      "outputs": []
    },
    {
      "metadata": {
        "id": "KiQ77j6IVxuA",
        "colab_type": "code",
        "colab": {
          "base_uri": "https://localhost:8080/",
          "height": 514
        },
        "outputId": "a0be3cfb-48bd-46da-dacb-36d889b8df27"
      },
      "cell_type": "code",
      "source": [
        "education['Institute'] = education['Institute'].replace({'\\.':''})\n",
        "\n",
        "education.head(15)"
      ],
      "execution_count": 164,
      "outputs": [
        {
          "output_type": "execute_result",
          "data": {
            "text/html": [
              "<div>\n",
              "<style scoped>\n",
              "    .dataframe tbody tr th:only-of-type {\n",
              "        vertical-align: middle;\n",
              "    }\n",
              "\n",
              "    .dataframe tbody tr th {\n",
              "        vertical-align: top;\n",
              "    }\n",
              "\n",
              "    .dataframe thead th {\n",
              "        text-align: right;\n",
              "    }\n",
              "</style>\n",
              "<table border=\"1\" class=\"dataframe\">\n",
              "  <thead>\n",
              "    <tr style=\"text-align: right;\">\n",
              "      <th></th>\n",
              "      <th>Serial Number</th>\n",
              "      <th>Start Date (0022)</th>\n",
              "      <th>End Date (0022)</th>\n",
              "      <th>Institute</th>\n",
              "      <th>Certificate Text</th>\n",
              "      <th>Branch of study 1 Text</th>\n",
              "      <th>Max_EduInstituteGroup</th>\n",
              "    </tr>\n",
              "  </thead>\n",
              "  <tbody>\n",
              "    <tr>\n",
              "      <th>0</th>\n",
              "      <td>1</td>\n",
              "      <td>1950-01-01</td>\n",
              "      <td>1953-01-01 00:00:00</td>\n",
              "      <td>SUANKWONG</td>\n",
              "      <td>Attended</td>\n",
              "      <td>General Studies</td>\n",
              "      <td>SCHL</td>\n",
              "    </tr>\n",
              "    <tr>\n",
              "      <th>1</th>\n",
              "      <td>2</td>\n",
              "      <td>1953-01-01</td>\n",
              "      <td>1957-01-01 00:00:00</td>\n",
              "      <td>VIENGPROU VITHAYA</td>\n",
              "      <td>Attended</td>\n",
              "      <td>No Specific Branch</td>\n",
              "      <td>SCHL</td>\n",
              "    </tr>\n",
              "    <tr>\n",
              "      <th>2</th>\n",
              "      <td>3</td>\n",
              "      <td>1949-01-01</td>\n",
              "      <td>1952-01-01 00:00:00</td>\n",
              "      <td>WADTEPSIRIN</td>\n",
              "      <td>Attended</td>\n",
              "      <td>No Specific Branch</td>\n",
              "      <td>SCHL</td>\n",
              "    </tr>\n",
              "    <tr>\n",
              "      <th>3</th>\n",
              "      <td>4</td>\n",
              "      <td>1956-01-01</td>\n",
              "      <td>1959-01-01 00:00:00</td>\n",
              "      <td>WATTANA VITHAYA EMY.</td>\n",
              "      <td>Attended</td>\n",
              "      <td>Education</td>\n",
              "      <td>ACAD</td>\n",
              "    </tr>\n",
              "    <tr>\n",
              "      <th>4</th>\n",
              "      <td>5</td>\n",
              "      <td>1956-06-01</td>\n",
              "      <td>1960-03-31 00:00:00</td>\n",
              "      <td>None</td>\n",
              "      <td>Bachelor</td>\n",
              "      <td>Business-Economics</td>\n",
              "      <td>UNIV</td>\n",
              "    </tr>\n",
              "    <tr>\n",
              "      <th>5</th>\n",
              "      <td>6</td>\n",
              "      <td>1949-01-01</td>\n",
              "      <td>1953-01-01 00:00:00</td>\n",
              "      <td>WADCHAENG</td>\n",
              "      <td>Attended</td>\n",
              "      <td>No Specific Branch</td>\n",
              "      <td>SCHL</td>\n",
              "    </tr>\n",
              "    <tr>\n",
              "      <th>6</th>\n",
              "      <td>7</td>\n",
              "      <td>1959-06-01</td>\n",
              "      <td>1961-08-30 00:00:00</td>\n",
              "      <td>TECHNICAL TRAINING OL</td>\n",
              "      <td>Diploma</td>\n",
              "      <td>Other Degree</td>\n",
              "      <td>SCHL</td>\n",
              "    </tr>\n",
              "    <tr>\n",
              "      <th>7</th>\n",
              "      <td>8</td>\n",
              "      <td>1956-01-01</td>\n",
              "      <td>1959-01-01 00:00:00</td>\n",
              "      <td>BANGKOK COMMERCIALEGE</td>\n",
              "      <td>Attended</td>\n",
              "      <td>Finance/Accounting</td>\n",
              "      <td>COLL</td>\n",
              "    </tr>\n",
              "    <tr>\n",
              "      <th>8</th>\n",
              "      <td>8</td>\n",
              "      <td>1958-01-01</td>\n",
              "      <td>1961-01-01 00:00:00</td>\n",
              "      <td>BANGKOK TECHNICALITUTE</td>\n",
              "      <td>Attended</td>\n",
              "      <td>Finance/Accounting</td>\n",
              "      <td>INST</td>\n",
              "    </tr>\n",
              "    <tr>\n",
              "      <th>9</th>\n",
              "      <td>9</td>\n",
              "      <td>1944-01-01</td>\n",
              "      <td>1948-01-01 00:00:00</td>\n",
              "      <td>RONGKAE</td>\n",
              "      <td>Attended</td>\n",
              "      <td>No Specific Branch</td>\n",
              "      <td>SCHL</td>\n",
              "    </tr>\n",
              "    <tr>\n",
              "      <th>10</th>\n",
              "      <td>10</td>\n",
              "      <td>1959-01-01</td>\n",
              "      <td>1962-01-01 00:00:00</td>\n",
              "      <td>BANGKOK COMMERCIALEGE</td>\n",
              "      <td>Attended</td>\n",
              "      <td>Business-Admin</td>\n",
              "      <td>COLL</td>\n",
              "    </tr>\n",
              "    <tr>\n",
              "      <th>11</th>\n",
              "      <td>11</td>\n",
              "      <td>1957-01-01</td>\n",
              "      <td>1960-01-01 00:00:00</td>\n",
              "      <td>ASSUMPTION COMMERCIALEGE</td>\n",
              "      <td>Attended</td>\n",
              "      <td>Business-Admin</td>\n",
              "      <td>COLL</td>\n",
              "    </tr>\n",
              "    <tr>\n",
              "      <th>12</th>\n",
              "      <td>11</td>\n",
              "      <td>1986-06-01</td>\n",
              "      <td>1990-03-31 00:00:00</td>\n",
              "      <td>None</td>\n",
              "      <td>Bachelor</td>\n",
              "      <td>Business-Admin</td>\n",
              "      <td>UNIV</td>\n",
              "    </tr>\n",
              "    <tr>\n",
              "      <th>13</th>\n",
              "      <td>12</td>\n",
              "      <td>1960-05-01</td>\n",
              "      <td>1963-12-20 00:00:00</td>\n",
              "      <td>PERTH TECHNICALEGE</td>\n",
              "      <td>Diploma</td>\n",
              "      <td>Finance/Accounting</td>\n",
              "      <td>COLL</td>\n",
              "    </tr>\n",
              "    <tr>\n",
              "      <th>14</th>\n",
              "      <td>13</td>\n",
              "      <td>1959-01-01</td>\n",
              "      <td>1962-01-01 00:00:00</td>\n",
              "      <td>BURANASUKDIVITHAYA</td>\n",
              "      <td>Attended</td>\n",
              "      <td>General Studies</td>\n",
              "      <td>SCHL</td>\n",
              "    </tr>\n",
              "  </tbody>\n",
              "</table>\n",
              "</div>"
            ],
            "text/plain": [
              "    Serial Number Start Date (0022)      End Date (0022)  \\\n",
              "0               1        1950-01-01  1953-01-01 00:00:00   \n",
              "1               2        1953-01-01  1957-01-01 00:00:00   \n",
              "2               3        1949-01-01  1952-01-01 00:00:00   \n",
              "3               4        1956-01-01  1959-01-01 00:00:00   \n",
              "4               5        1956-06-01  1960-03-31 00:00:00   \n",
              "5               6        1949-01-01  1953-01-01 00:00:00   \n",
              "6               7        1959-06-01  1961-08-30 00:00:00   \n",
              "7               8        1956-01-01  1959-01-01 00:00:00   \n",
              "8               8        1958-01-01  1961-01-01 00:00:00   \n",
              "9               9        1944-01-01  1948-01-01 00:00:00   \n",
              "10             10        1959-01-01  1962-01-01 00:00:00   \n",
              "11             11        1957-01-01  1960-01-01 00:00:00   \n",
              "12             11        1986-06-01  1990-03-31 00:00:00   \n",
              "13             12        1960-05-01  1963-12-20 00:00:00   \n",
              "14             13        1959-01-01  1962-01-01 00:00:00   \n",
              "\n",
              "                   Institute Certificate Text Branch of study 1 Text  \\\n",
              "0                 SUANKWONG          Attended        General Studies   \n",
              "1         VIENGPROU VITHAYA          Attended     No Specific Branch   \n",
              "2               WADTEPSIRIN          Attended     No Specific Branch   \n",
              "3       WATTANA VITHAYA EMY.         Attended              Education   \n",
              "4                       None         Bachelor     Business-Economics   \n",
              "5                 WADCHAENG          Attended     No Specific Branch   \n",
              "6      TECHNICAL TRAINING OL          Diploma           Other Degree   \n",
              "7      BANGKOK COMMERCIALEGE         Attended     Finance/Accounting   \n",
              "8     BANGKOK TECHNICALITUTE         Attended     Finance/Accounting   \n",
              "9                   RONGKAE          Attended     No Specific Branch   \n",
              "10     BANGKOK COMMERCIALEGE         Attended         Business-Admin   \n",
              "11  ASSUMPTION COMMERCIALEGE         Attended         Business-Admin   \n",
              "12                      None         Bachelor         Business-Admin   \n",
              "13        PERTH TECHNICALEGE          Diploma     Finance/Accounting   \n",
              "14       BURANASUKDIVITHAYA          Attended        General Studies   \n",
              "\n",
              "   Max_EduInstituteGroup  \n",
              "0                   SCHL  \n",
              "1                   SCHL  \n",
              "2                   SCHL  \n",
              "3                   ACAD  \n",
              "4                   UNIV  \n",
              "5                   SCHL  \n",
              "6                   SCHL  \n",
              "7                   COLL  \n",
              "8                   INST  \n",
              "9                   SCHL  \n",
              "10                  COLL  \n",
              "11                  COLL  \n",
              "12                  UNIV  \n",
              "13                  COLL  \n",
              "14                  SCHL  "
            ]
          },
          "metadata": {
            "tags": []
          },
          "execution_count": 164
        }
      ]
    },
    {
      "metadata": {
        "id": "iUoxBjphADcn",
        "colab_type": "code",
        "colab": {
          "base_uri": "https://localhost:8080/",
          "height": 1071
        },
        "outputId": "b3d6a9e0-252e-4ffe-fa4c-f69771db60bd"
      },
      "cell_type": "code",
      "source": [
        "education[(education['Max_EduInstituteGroup'] == 'UNIV')].Institute"
      ],
      "execution_count": 165,
      "outputs": [
        {
          "output_type": "execute_result",
          "data": {
            "text/plain": [
              "4       None\n",
              "12      None\n",
              "19      None\n",
              "21      None\n",
              "25      None\n",
              "26      None\n",
              "27      None\n",
              "28      None\n",
              "33      None\n",
              "36      None\n",
              "37      None\n",
              "38      None\n",
              "39      None\n",
              "49      None\n",
              "100     None\n",
              "101     None\n",
              "108     None\n",
              "112     None\n",
              "131     None\n",
              "139     None\n",
              "140     None\n",
              "144     None\n",
              "147     None\n",
              "151     None\n",
              "153     None\n",
              "162     None\n",
              "168     None\n",
              "177     None\n",
              "178     None\n",
              "180     None\n",
              "        ... \n",
              "7297    None\n",
              "7298    None\n",
              "7299    None\n",
              "7300    None\n",
              "7301    None\n",
              "7302    None\n",
              "7303    None\n",
              "7304    None\n",
              "7305    None\n",
              "7307    None\n",
              "7308    None\n",
              "7309    None\n",
              "7310    None\n",
              "7311    None\n",
              "7312    None\n",
              "7313    None\n",
              "7314    None\n",
              "7316    None\n",
              "7317    None\n",
              "7318    None\n",
              "7319    None\n",
              "7320    None\n",
              "7321    None\n",
              "7322    None\n",
              "7323    None\n",
              "7324    None\n",
              "7325    None\n",
              "7326    None\n",
              "7328    None\n",
              "7329    None\n",
              "Name: Institute, Length: 5191, dtype: object"
            ]
          },
          "metadata": {
            "tags": []
          },
          "execution_count": 165
        }
      ]
    },
    {
      "metadata": {
        "id": "aR6nF2mvGJ6-",
        "colab_type": "code",
        "colab": {}
      },
      "cell_type": "code",
      "source": [
        "newDF = pd.merge(mainDF, education, on='Serial Number')"
      ],
      "execution_count": 0,
      "outputs": []
    },
    {
      "metadata": {
        "id": "-P8E7o_1GQlX",
        "colab_type": "code",
        "colab": {
          "base_uri": "https://localhost:8080/",
          "height": 221
        },
        "outputId": "d32a0791-d4ce-4cc1-e1c0-d2d8f5b60dc7"
      },
      "cell_type": "code",
      "source": [
        "newDF.head()"
      ],
      "execution_count": 172,
      "outputs": [
        {
          "output_type": "execute_result",
          "data": {
            "text/html": [
              "<div>\n",
              "<style scoped>\n",
              "    .dataframe tbody tr th:only-of-type {\n",
              "        vertical-align: middle;\n",
              "    }\n",
              "\n",
              "    .dataframe tbody tr th {\n",
              "        vertical-align: top;\n",
              "    }\n",
              "\n",
              "    .dataframe thead th {\n",
              "        text-align: right;\n",
              "    }\n",
              "</style>\n",
              "<table border=\"1\" class=\"dataframe\">\n",
              "  <thead>\n",
              "    <tr style=\"text-align: right;\">\n",
              "      <th></th>\n",
              "      <th>Serial Number</th>\n",
              "      <th>EmpExp</th>\n",
              "      <th>isEduAllowanceUsed</th>\n",
              "      <th>NewAndNotTakeMaster</th>\n",
              "      <th>Institute</th>\n",
              "      <th>Certificate Text</th>\n",
              "      <th>Branch of study 1 Text</th>\n",
              "      <th>Max_EduInstituteGroup</th>\n",
              "    </tr>\n",
              "  </thead>\n",
              "  <tbody>\n",
              "    <tr>\n",
              "      <th>0</th>\n",
              "      <td>1</td>\n",
              "      <td>43.778082</td>\n",
              "      <td>0</td>\n",
              "      <td>0</td>\n",
              "      <td>SUANKWONG</td>\n",
              "      <td>Attended</td>\n",
              "      <td>General Studies</td>\n",
              "      <td>SCHL</td>\n",
              "    </tr>\n",
              "    <tr>\n",
              "      <th>1</th>\n",
              "      <td>2</td>\n",
              "      <td>38.356164</td>\n",
              "      <td>0</td>\n",
              "      <td>0</td>\n",
              "      <td>VIENGPROU VITHAYA</td>\n",
              "      <td>Attended</td>\n",
              "      <td>No Specific Branch</td>\n",
              "      <td>SCHL</td>\n",
              "    </tr>\n",
              "    <tr>\n",
              "      <th>2</th>\n",
              "      <td>3</td>\n",
              "      <td>39.654795</td>\n",
              "      <td>0</td>\n",
              "      <td>0</td>\n",
              "      <td>WADTEPSIRIN</td>\n",
              "      <td>Attended</td>\n",
              "      <td>No Specific Branch</td>\n",
              "      <td>SCHL</td>\n",
              "    </tr>\n",
              "    <tr>\n",
              "      <th>3</th>\n",
              "      <td>4</td>\n",
              "      <td>38.273973</td>\n",
              "      <td>0</td>\n",
              "      <td>0</td>\n",
              "      <td>WATTANA VITHAYA EMY.</td>\n",
              "      <td>Attended</td>\n",
              "      <td>Education</td>\n",
              "      <td>ACAD</td>\n",
              "    </tr>\n",
              "    <tr>\n",
              "      <th>4</th>\n",
              "      <td>5</td>\n",
              "      <td>39.104110</td>\n",
              "      <td>0</td>\n",
              "      <td>0</td>\n",
              "      <td>None</td>\n",
              "      <td>Bachelor</td>\n",
              "      <td>Business-Economics</td>\n",
              "      <td>UNIV</td>\n",
              "    </tr>\n",
              "  </tbody>\n",
              "</table>\n",
              "</div>"
            ],
            "text/plain": [
              "   Serial Number     EmpExp  isEduAllowanceUsed  NewAndNotTakeMaster  \\\n",
              "0              1  43.778082                   0                    0   \n",
              "1              2  38.356164                   0                    0   \n",
              "2              3  39.654795                   0                    0   \n",
              "3              4  38.273973                   0                    0   \n",
              "4              5  39.104110                   0                    0   \n",
              "\n",
              "              Institute Certificate Text Branch of study 1 Text  \\\n",
              "0            SUANKWONG          Attended        General Studies   \n",
              "1    VIENGPROU VITHAYA          Attended     No Specific Branch   \n",
              "2          WADTEPSIRIN          Attended     No Specific Branch   \n",
              "3  WATTANA VITHAYA EMY.         Attended              Education   \n",
              "4                  None         Bachelor     Business-Economics   \n",
              "\n",
              "  Max_EduInstituteGroup  \n",
              "0                  SCHL  \n",
              "1                  SCHL  \n",
              "2                  SCHL  \n",
              "3                  ACAD  \n",
              "4                  UNIV  "
            ]
          },
          "metadata": {
            "tags": []
          },
          "execution_count": 172
        }
      ]
    },
    {
      "metadata": {
        "id": "_QfzN6HIBekU",
        "colab_type": "code",
        "colab": {}
      },
      "cell_type": "code",
      "source": [
        "newDF.to_csv('Additional_Education.csv')"
      ],
      "execution_count": 0,
      "outputs": []
    },
    {
      "metadata": {
        "id": "jv5boDNJF-PI",
        "colab_type": "code",
        "colab": {}
      },
      "cell_type": "code",
      "source": [
        "from google.colab import files\n",
        "files.download('Additional_Education.csv')"
      ],
      "execution_count": 0,
      "outputs": []
    },
    {
      "metadata": {
        "id": "i6jfN5NuGWzM",
        "colab_type": "code",
        "colab": {}
      },
      "cell_type": "code",
      "source": [
        ""
      ],
      "execution_count": 0,
      "outputs": []
    }
  ]
}
