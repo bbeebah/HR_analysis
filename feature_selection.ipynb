{
  "nbformat": 4,
  "nbformat_minor": 0,
  "metadata": {
    "colab": {
      "name": "My_Playground.ipynb",
      "version": "0.3.2",
      "provenance": []
    },
    "kernelspec": {
      "name": "python3",
      "display_name": "Python 3"
    }
  },
  "cells": [
    {
      "metadata": {
        "id": "_ADMAMuzAeK2",
        "colab_type": "code",
        "colab": {}
      },
      "cell_type": "code",
      "source": [
        "# Import libraries\n",
        "\n",
        "import numpy as np\n",
        "import pandas as pd"
      ],
      "execution_count": 0,
      "outputs": []
    },
    {
      "metadata": {
        "id": "avSjXCEICVB0",
        "colab_type": "code",
        "colab": {}
      },
      "cell_type": "code",
      "source": [
        "pd.options.display.max_columns = None"
      ],
      "execution_count": 0,
      "outputs": []
    },
    {
      "metadata": {
        "id": "4rxXNmL-Hc3o",
        "colab_type": "code",
        "outputId": "88c9758f-fc99-4151-db76-4af542856211",
        "colab": {
          "resources": {
            "http://localhost:8080/nbextensions/google.colab/files.js": {
              "data": "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",
              "ok": true,
              "headers": [
                [
                  "content-length",
                  "5492"
                ],
                [
                  "content-type",
                  "application/javascript"
                ]
              ],
              "status": 200,
              "status_text": "OK"
            }
          },
          "base_uri": "https://localhost:8080/",
          "height": 72
        }
      },
      "cell_type": "code",
      "source": [
        "from google.colab import files\n",
        "\n",
        "uploaded = files.upload()"
      ],
      "execution_count": 3,
      "outputs": [
        {
          "output_type": "display_data",
          "data": {
            "text/html": [
              "\n",
              "     <input type=\"file\" id=\"files-5917e85b-40e4-4a60-8b40-669844143712\" name=\"files[]\" multiple disabled />\n",
              "     <output id=\"result-5917e85b-40e4-4a60-8b40-669844143712\">\n",
              "      Upload widget is only available when the cell has been executed in the\n",
              "      current browser session. Please rerun this cell to enable.\n",
              "      </output>\n",
              "      <script src=\"/nbextensions/google.colab/files.js\"></script> "
            ],
            "text/plain": [
              "<IPython.core.display.HTML object>"
            ]
          },
          "metadata": {
            "tags": []
          }
        },
        {
          "output_type": "stream",
          "text": [
            "Saving PREPDATA.csv to PREPDATA.csv\n"
          ],
          "name": "stdout"
        }
      ]
    },
    {
      "metadata": {
        "id": "4TPsibJMHhkP",
        "colab_type": "code",
        "colab": {}
      },
      "cell_type": "code",
      "source": [
        "df = pd.read_csv('PREPDATA.csv')"
      ],
      "execution_count": 0,
      "outputs": []
    },
    {
      "metadata": {
        "id": "zVSKOFljHz1A",
        "colab_type": "code",
        "outputId": "3f9d4808-f15a-43ce-acca-9cb7804609a9",
        "colab": {
          "base_uri": "https://localhost:8080/",
          "height": 275
        }
      },
      "cell_type": "code",
      "source": [
        "df.head()"
      ],
      "execution_count": 5,
      "outputs": [
        {
          "output_type": "execute_result",
          "data": {
            "text/html": [
              "<div>\n",
              "<style scoped>\n",
              "    .dataframe tbody tr th:only-of-type {\n",
              "        vertical-align: middle;\n",
              "    }\n",
              "\n",
              "    .dataframe tbody tr th {\n",
              "        vertical-align: top;\n",
              "    }\n",
              "\n",
              "    .dataframe thead th {\n",
              "        text-align: right;\n",
              "    }\n",
              "</style>\n",
              "<table border=\"1\" class=\"dataframe\">\n",
              "  <thead>\n",
              "    <tr style=\"text-align: right;\">\n",
              "      <th></th>\n",
              "      <th>Serial Number</th>\n",
              "      <th>BSC Indicator</th>\n",
              "      <th>Resigned</th>\n",
              "      <th>Is MPT</th>\n",
              "      <th>Is Re-Entry</th>\n",
              "      <th>Exp at Action</th>\n",
              "      <th>Age at Action</th>\n",
              "      <th>SUP Is MPT</th>\n",
              "      <th>SUP Exp at Action</th>\n",
              "      <th>SUP Age at Action</th>\n",
              "      <th>Is SUP</th>\n",
              "      <th>SUP Gender_F</th>\n",
              "      <th>SUP Gender_M</th>\n",
              "      <th>Gender_F</th>\n",
              "      <th>Gender_M</th>\n",
              "      <th>SUP Older Than EMP</th>\n",
              "      <th>Age Diff SUPvsEMP</th>\n",
              "      <th>EduAllowFinishedIn1y</th>\n",
              "      <th>EduAllowYearDiff</th>\n",
              "      <th>EDU Allowance</th>\n",
              "      <th>House Loan</th>\n",
              "      <th>Is STEM</th>\n",
              "      <th>MAX Degree</th>\n",
              "      <th>Year After Grad</th>\n",
              "      <th>countAbsence1y</th>\n",
              "      <th>Absence1y</th>\n",
              "      <th>countAbsenceLast3m</th>\n",
              "      <th>AbsenceLast3m</th>\n",
              "      <th>VAC_DependentCare</th>\n",
              "      <th>VAC_Maternity</th>\n",
              "      <th>VAC_Others</th>\n",
              "      <th>VAC_Personal</th>\n",
              "      <th>VAC_Sick</th>\n",
              "      <th>VAC_Vacation</th>\n",
              "    </tr>\n",
              "  </thead>\n",
              "  <tbody>\n",
              "    <tr>\n",
              "      <th>0</th>\n",
              "      <td>1</td>\n",
              "      <td>0</td>\n",
              "      <td>0</td>\n",
              "      <td>1</td>\n",
              "      <td>0</td>\n",
              "      <td>43.502604</td>\n",
              "      <td>59.839696</td>\n",
              "      <td>1</td>\n",
              "      <td>17.339165</td>\n",
              "      <td>44.838703</td>\n",
              "      <td>0</td>\n",
              "      <td>0</td>\n",
              "      <td>1</td>\n",
              "      <td>0</td>\n",
              "      <td>1</td>\n",
              "      <td>1</td>\n",
              "      <td>-15.000992</td>\n",
              "      <td>NaN</td>\n",
              "      <td>NaN</td>\n",
              "      <td>0</td>\n",
              "      <td>0</td>\n",
              "      <td>0</td>\n",
              "      <td>1.0</td>\n",
              "      <td>45.586152</td>\n",
              "      <td>0</td>\n",
              "      <td>0.0</td>\n",
              "      <td>0</td>\n",
              "      <td>0.0</td>\n",
              "      <td>0.0</td>\n",
              "      <td>0.0</td>\n",
              "      <td>0.0</td>\n",
              "      <td>0.0</td>\n",
              "      <td>0.0</td>\n",
              "      <td>0.000000</td>\n",
              "    </tr>\n",
              "    <tr>\n",
              "      <th>1</th>\n",
              "      <td>6</td>\n",
              "      <td>0</td>\n",
              "      <td>0</td>\n",
              "      <td>0</td>\n",
              "      <td>0</td>\n",
              "      <td>37.668125</td>\n",
              "      <td>59.839696</td>\n",
              "      <td>1</td>\n",
              "      <td>20.005886</td>\n",
              "      <td>52.425443</td>\n",
              "      <td>0</td>\n",
              "      <td>1</td>\n",
              "      <td>0</td>\n",
              "      <td>0</td>\n",
              "      <td>1</td>\n",
              "      <td>1</td>\n",
              "      <td>-7.414252</td>\n",
              "      <td>NaN</td>\n",
              "      <td>NaN</td>\n",
              "      <td>0</td>\n",
              "      <td>0</td>\n",
              "      <td>0</td>\n",
              "      <td>1.0</td>\n",
              "      <td>46.752500</td>\n",
              "      <td>0</td>\n",
              "      <td>0.0</td>\n",
              "      <td>0</td>\n",
              "      <td>0.0</td>\n",
              "      <td>0.0</td>\n",
              "      <td>0.0</td>\n",
              "      <td>0.0</td>\n",
              "      <td>0.0</td>\n",
              "      <td>0.0</td>\n",
              "      <td>0.000000</td>\n",
              "    </tr>\n",
              "    <tr>\n",
              "      <th>2</th>\n",
              "      <td>8</td>\n",
              "      <td>0</td>\n",
              "      <td>0</td>\n",
              "      <td>1</td>\n",
              "      <td>0</td>\n",
              "      <td>36.592127</td>\n",
              "      <td>59.426272</td>\n",
              "      <td>1</td>\n",
              "      <td>32.088270</td>\n",
              "      <td>59.508409</td>\n",
              "      <td>0</td>\n",
              "      <td>0</td>\n",
              "      <td>1</td>\n",
              "      <td>0</td>\n",
              "      <td>1</td>\n",
              "      <td>0</td>\n",
              "      <td>0.082137</td>\n",
              "      <td>NaN</td>\n",
              "      <td>NaN</td>\n",
              "      <td>0</td>\n",
              "      <td>0</td>\n",
              "      <td>0</td>\n",
              "      <td>1.0</td>\n",
              "      <td>37.753000</td>\n",
              "      <td>0</td>\n",
              "      <td>0.0</td>\n",
              "      <td>0</td>\n",
              "      <td>0.0</td>\n",
              "      <td>0.0</td>\n",
              "      <td>0.0</td>\n",
              "      <td>0.0</td>\n",
              "      <td>0.0</td>\n",
              "      <td>0.0</td>\n",
              "      <td>0.000000</td>\n",
              "    </tr>\n",
              "    <tr>\n",
              "      <th>3</th>\n",
              "      <td>11</td>\n",
              "      <td>0</td>\n",
              "      <td>0</td>\n",
              "      <td>1</td>\n",
              "      <td>0</td>\n",
              "      <td>37.421713</td>\n",
              "      <td>59.836958</td>\n",
              "      <td>1</td>\n",
              "      <td>31.669370</td>\n",
              "      <td>58.421460</td>\n",
              "      <td>0</td>\n",
              "      <td>0</td>\n",
              "      <td>1</td>\n",
              "      <td>0</td>\n",
              "      <td>1</td>\n",
              "      <td>1</td>\n",
              "      <td>-1.415498</td>\n",
              "      <td>NaN</td>\n",
              "      <td>NaN</td>\n",
              "      <td>0</td>\n",
              "      <td>0</td>\n",
              "      <td>0</td>\n",
              "      <td>2.0</td>\n",
              "      <td>9.423876</td>\n",
              "      <td>0</td>\n",
              "      <td>0.0</td>\n",
              "      <td>0</td>\n",
              "      <td>0.0</td>\n",
              "      <td>0.0</td>\n",
              "      <td>0.0</td>\n",
              "      <td>0.0</td>\n",
              "      <td>0.0</td>\n",
              "      <td>0.0</td>\n",
              "      <td>0.000000</td>\n",
              "    </tr>\n",
              "    <tr>\n",
              "      <th>4</th>\n",
              "      <td>13</td>\n",
              "      <td>0</td>\n",
              "      <td>0</td>\n",
              "      <td>0</td>\n",
              "      <td>0</td>\n",
              "      <td>40.586733</td>\n",
              "      <td>59.836958</td>\n",
              "      <td>1</td>\n",
              "      <td>13.837382</td>\n",
              "      <td>41.755820</td>\n",
              "      <td>0</td>\n",
              "      <td>0</td>\n",
              "      <td>1</td>\n",
              "      <td>0</td>\n",
              "      <td>1</td>\n",
              "      <td>1</td>\n",
              "      <td>-18.081138</td>\n",
              "      <td>NaN</td>\n",
              "      <td>NaN</td>\n",
              "      <td>0</td>\n",
              "      <td>0</td>\n",
              "      <td>0</td>\n",
              "      <td>1.0</td>\n",
              "      <td>43.502604</td>\n",
              "      <td>11</td>\n",
              "      <td>16.0</td>\n",
              "      <td>4</td>\n",
              "      <td>6.0</td>\n",
              "      <td>0.0</td>\n",
              "      <td>0.0</td>\n",
              "      <td>0.0</td>\n",
              "      <td>0.0</td>\n",
              "      <td>0.0</td>\n",
              "      <td>1.454545</td>\n",
              "    </tr>\n",
              "  </tbody>\n",
              "</table>\n",
              "</div>"
            ],
            "text/plain": [
              "   Serial Number  BSC Indicator  Resigned  Is MPT  Is Re-Entry  Exp at Action  \\\n",
              "0              1              0         0       1            0      43.502604   \n",
              "1              6              0         0       0            0      37.668125   \n",
              "2              8              0         0       1            0      36.592127   \n",
              "3             11              0         0       1            0      37.421713   \n",
              "4             13              0         0       0            0      40.586733   \n",
              "\n",
              "   Age at Action  SUP Is MPT  SUP Exp at Action  SUP Age at Action  Is SUP  \\\n",
              "0      59.839696           1          17.339165          44.838703       0   \n",
              "1      59.839696           1          20.005886          52.425443       0   \n",
              "2      59.426272           1          32.088270          59.508409       0   \n",
              "3      59.836958           1          31.669370          58.421460       0   \n",
              "4      59.836958           1          13.837382          41.755820       0   \n",
              "\n",
              "   SUP Gender_F  SUP Gender_M  Gender_F  Gender_M  SUP Older Than EMP  \\\n",
              "0             0             1         0         1                   1   \n",
              "1             1             0         0         1                   1   \n",
              "2             0             1         0         1                   0   \n",
              "3             0             1         0         1                   1   \n",
              "4             0             1         0         1                   1   \n",
              "\n",
              "   Age Diff SUPvsEMP  EduAllowFinishedIn1y  EduAllowYearDiff  EDU Allowance  \\\n",
              "0         -15.000992                   NaN               NaN              0   \n",
              "1          -7.414252                   NaN               NaN              0   \n",
              "2           0.082137                   NaN               NaN              0   \n",
              "3          -1.415498                   NaN               NaN              0   \n",
              "4         -18.081138                   NaN               NaN              0   \n",
              "\n",
              "   House Loan  Is STEM  MAX Degree  Year After Grad  countAbsence1y  \\\n",
              "0           0        0         1.0        45.586152               0   \n",
              "1           0        0         1.0        46.752500               0   \n",
              "2           0        0         1.0        37.753000               0   \n",
              "3           0        0         2.0         9.423876               0   \n",
              "4           0        0         1.0        43.502604              11   \n",
              "\n",
              "   Absence1y  countAbsenceLast3m  AbsenceLast3m  VAC_DependentCare  \\\n",
              "0        0.0                   0            0.0                0.0   \n",
              "1        0.0                   0            0.0                0.0   \n",
              "2        0.0                   0            0.0                0.0   \n",
              "3        0.0                   0            0.0                0.0   \n",
              "4       16.0                   4            6.0                0.0   \n",
              "\n",
              "   VAC_Maternity  VAC_Others  VAC_Personal  VAC_Sick  VAC_Vacation  \n",
              "0            0.0         0.0           0.0       0.0      0.000000  \n",
              "1            0.0         0.0           0.0       0.0      0.000000  \n",
              "2            0.0         0.0           0.0       0.0      0.000000  \n",
              "3            0.0         0.0           0.0       0.0      0.000000  \n",
              "4            0.0         0.0           0.0       0.0      1.454545  "
            ]
          },
          "metadata": {
            "tags": []
          },
          "execution_count": 5
        }
      ]
    },
    {
      "metadata": {
        "id": "Kf6cIJPxIeqz",
        "colab_type": "code",
        "colab": {}
      },
      "cell_type": "code",
      "source": [
        "from sklearn.model_selection import train_test_split"
      ],
      "execution_count": 0,
      "outputs": []
    },
    {
      "metadata": {
        "id": "YJv1y0lBKsp5",
        "colab_type": "code",
        "colab": {}
      },
      "cell_type": "code",
      "source": [
        "X = df.drop('Resigned',axis=1)\n",
        "X = X.drop(['Serial Number'],axis=1)\n",
        "Y = df['Resigned']\n",
        "\n",
        "X_Train_Master, X_Test_Master, Y_Train_Master, Y_Test_Master = train_test_split(X, Y, test_size=0.33)"
      ],
      "execution_count": 0,
      "outputs": []
    },
    {
      "metadata": {
        "id": "C_l5FMRQDFMZ",
        "colab_type": "code",
        "colab": {}
      },
      "cell_type": "code",
      "source": [
        "X_Train = X_Train_Master.copy()\n",
        "X_Test = X_Test_Master.copy()\n",
        "Y_Train = Y_Train_Master.copy()\n",
        "Y_Test = Y_Test_Master.copy()"
      ],
      "execution_count": 0,
      "outputs": []
    },
    {
      "metadata": {
        "id": "_RRXAY7CEKRa",
        "colab_type": "code",
        "outputId": "e6a5af6a-8ee8-4a02-9388-8a7fe3624b88",
        "colab": {
          "base_uri": "https://localhost:8080/",
          "height": 275
        }
      },
      "cell_type": "code",
      "source": [
        "X_Train.head()"
      ],
      "execution_count": 9,
      "outputs": [
        {
          "output_type": "execute_result",
          "data": {
            "text/html": [
              "<div>\n",
              "<style scoped>\n",
              "    .dataframe tbody tr th:only-of-type {\n",
              "        vertical-align: middle;\n",
              "    }\n",
              "\n",
              "    .dataframe tbody tr th {\n",
              "        vertical-align: top;\n",
              "    }\n",
              "\n",
              "    .dataframe thead th {\n",
              "        text-align: right;\n",
              "    }\n",
              "</style>\n",
              "<table border=\"1\" class=\"dataframe\">\n",
              "  <thead>\n",
              "    <tr style=\"text-align: right;\">\n",
              "      <th></th>\n",
              "      <th>BSC Indicator</th>\n",
              "      <th>Is MPT</th>\n",
              "      <th>Is Re-Entry</th>\n",
              "      <th>Exp at Action</th>\n",
              "      <th>Age at Action</th>\n",
              "      <th>SUP Is MPT</th>\n",
              "      <th>SUP Exp at Action</th>\n",
              "      <th>SUP Age at Action</th>\n",
              "      <th>Is SUP</th>\n",
              "      <th>SUP Gender_F</th>\n",
              "      <th>SUP Gender_M</th>\n",
              "      <th>Gender_F</th>\n",
              "      <th>Gender_M</th>\n",
              "      <th>SUP Older Than EMP</th>\n",
              "      <th>Age Diff SUPvsEMP</th>\n",
              "      <th>EduAllowFinishedIn1y</th>\n",
              "      <th>EduAllowYearDiff</th>\n",
              "      <th>EDU Allowance</th>\n",
              "      <th>House Loan</th>\n",
              "      <th>Is STEM</th>\n",
              "      <th>MAX Degree</th>\n",
              "      <th>Year After Grad</th>\n",
              "      <th>countAbsence1y</th>\n",
              "      <th>Absence1y</th>\n",
              "      <th>countAbsenceLast3m</th>\n",
              "      <th>AbsenceLast3m</th>\n",
              "      <th>VAC_DependentCare</th>\n",
              "      <th>VAC_Maternity</th>\n",
              "      <th>VAC_Others</th>\n",
              "      <th>VAC_Personal</th>\n",
              "      <th>VAC_Sick</th>\n",
              "      <th>VAC_Vacation</th>\n",
              "    </tr>\n",
              "  </thead>\n",
              "  <tbody>\n",
              "    <tr>\n",
              "      <th>2114</th>\n",
              "      <td>1</td>\n",
              "      <td>0</td>\n",
              "      <td>0</td>\n",
              "      <td>9.336263</td>\n",
              "      <td>35.338166</td>\n",
              "      <td>1</td>\n",
              "      <td>10.590224</td>\n",
              "      <td>37.837875</td>\n",
              "      <td>0</td>\n",
              "      <td>1</td>\n",
              "      <td>0</td>\n",
              "      <td>1</td>\n",
              "      <td>0</td>\n",
              "      <td>0</td>\n",
              "      <td>2.499709</td>\n",
              "      <td>0.0</td>\n",
              "      <td>2.0</td>\n",
              "      <td>1</td>\n",
              "      <td>1</td>\n",
              "      <td>0</td>\n",
              "      <td>3.0</td>\n",
              "      <td>1.514063</td>\n",
              "      <td>15</td>\n",
              "      <td>19.0</td>\n",
              "      <td>12</td>\n",
              "      <td>13.0</td>\n",
              "      <td>0.0</td>\n",
              "      <td>30.5</td>\n",
              "      <td>0.0</td>\n",
              "      <td>3.0</td>\n",
              "      <td>1.25</td>\n",
              "      <td>1.181818</td>\n",
              "    </tr>\n",
              "    <tr>\n",
              "      <th>2685</th>\n",
              "      <td>1</td>\n",
              "      <td>1</td>\n",
              "      <td>0</td>\n",
              "      <td>4.588732</td>\n",
              "      <td>32.003395</td>\n",
              "      <td>1</td>\n",
              "      <td>9.752425</td>\n",
              "      <td>33.421631</td>\n",
              "      <td>0</td>\n",
              "      <td>1</td>\n",
              "      <td>0</td>\n",
              "      <td>1</td>\n",
              "      <td>0</td>\n",
              "      <td>0</td>\n",
              "      <td>1.418236</td>\n",
              "      <td>NaN</td>\n",
              "      <td>NaN</td>\n",
              "      <td>0</td>\n",
              "      <td>0</td>\n",
              "      <td>0</td>\n",
              "      <td>3.0</td>\n",
              "      <td>7.173316</td>\n",
              "      <td>18</td>\n",
              "      <td>17.0</td>\n",
              "      <td>6</td>\n",
              "      <td>6.0</td>\n",
              "      <td>0.0</td>\n",
              "      <td>0.0</td>\n",
              "      <td>0.0</td>\n",
              "      <td>0.0</td>\n",
              "      <td>0.00</td>\n",
              "      <td>1.022727</td>\n",
              "    </tr>\n",
              "    <tr>\n",
              "      <th>3358</th>\n",
              "      <td>1</td>\n",
              "      <td>1</td>\n",
              "      <td>0</td>\n",
              "      <td>0.503775</td>\n",
              "      <td>28.170325</td>\n",
              "      <td>1</td>\n",
              "      <td>13.169333</td>\n",
              "      <td>38.338912</td>\n",
              "      <td>0</td>\n",
              "      <td>1</td>\n",
              "      <td>0</td>\n",
              "      <td>1</td>\n",
              "      <td>0</td>\n",
              "      <td>0</td>\n",
              "      <td>10.168587</td>\n",
              "      <td>1.0</td>\n",
              "      <td>-1.0</td>\n",
              "      <td>1</td>\n",
              "      <td>0</td>\n",
              "      <td>0</td>\n",
              "      <td>NaN</td>\n",
              "      <td>0.000000</td>\n",
              "      <td>6</td>\n",
              "      <td>14.0</td>\n",
              "      <td>6</td>\n",
              "      <td>14.0</td>\n",
              "      <td>0.0</td>\n",
              "      <td>0.0</td>\n",
              "      <td>0.0</td>\n",
              "      <td>0.0</td>\n",
              "      <td>1.00</td>\n",
              "      <td>2.333333</td>\n",
              "    </tr>\n",
              "    <tr>\n",
              "      <th>3380</th>\n",
              "      <td>0</td>\n",
              "      <td>1</td>\n",
              "      <td>0</td>\n",
              "      <td>0.421638</td>\n",
              "      <td>24.835554</td>\n",
              "      <td>1</td>\n",
              "      <td>5.169168</td>\n",
              "      <td>29.588561</td>\n",
              "      <td>0</td>\n",
              "      <td>1</td>\n",
              "      <td>0</td>\n",
              "      <td>0</td>\n",
              "      <td>1</td>\n",
              "      <td>0</td>\n",
              "      <td>4.753007</td>\n",
              "      <td>NaN</td>\n",
              "      <td>NaN</td>\n",
              "      <td>0</td>\n",
              "      <td>0</td>\n",
              "      <td>1</td>\n",
              "      <td>3.0</td>\n",
              "      <td>0.668049</td>\n",
              "      <td>7</td>\n",
              "      <td>6.0</td>\n",
              "      <td>7</td>\n",
              "      <td>6.0</td>\n",
              "      <td>0.0</td>\n",
              "      <td>0.0</td>\n",
              "      <td>0.0</td>\n",
              "      <td>1.6</td>\n",
              "      <td>0.00</td>\n",
              "      <td>1.000000</td>\n",
              "    </tr>\n",
              "    <tr>\n",
              "      <th>3221</th>\n",
              "      <td>1</td>\n",
              "      <td>1</td>\n",
              "      <td>0</td>\n",
              "      <td>1.336099</td>\n",
              "      <td>23.836218</td>\n",
              "      <td>1</td>\n",
              "      <td>11.170661</td>\n",
              "      <td>35.505178</td>\n",
              "      <td>0</td>\n",
              "      <td>1</td>\n",
              "      <td>0</td>\n",
              "      <td>1</td>\n",
              "      <td>0</td>\n",
              "      <td>0</td>\n",
              "      <td>11.668960</td>\n",
              "      <td>NaN</td>\n",
              "      <td>NaN</td>\n",
              "      <td>0</td>\n",
              "      <td>0</td>\n",
              "      <td>0</td>\n",
              "      <td>2.0</td>\n",
              "      <td>1.278603</td>\n",
              "      <td>6</td>\n",
              "      <td>23.0</td>\n",
              "      <td>4</td>\n",
              "      <td>6.0</td>\n",
              "      <td>0.0</td>\n",
              "      <td>0.0</td>\n",
              "      <td>0.0</td>\n",
              "      <td>1.0</td>\n",
              "      <td>0.75</td>\n",
              "      <td>3.200000</td>\n",
              "    </tr>\n",
              "  </tbody>\n",
              "</table>\n",
              "</div>"
            ],
            "text/plain": [
              "      BSC Indicator  Is MPT  Is Re-Entry  Exp at Action  Age at Action  \\\n",
              "2114              1       0            0       9.336263      35.338166   \n",
              "2685              1       1            0       4.588732      32.003395   \n",
              "3358              1       1            0       0.503775      28.170325   \n",
              "3380              0       1            0       0.421638      24.835554   \n",
              "3221              1       1            0       1.336099      23.836218   \n",
              "\n",
              "      SUP Is MPT  SUP Exp at Action  SUP Age at Action  Is SUP  SUP Gender_F  \\\n",
              "2114           1          10.590224          37.837875       0             1   \n",
              "2685           1           9.752425          33.421631       0             1   \n",
              "3358           1          13.169333          38.338912       0             1   \n",
              "3380           1           5.169168          29.588561       0             1   \n",
              "3221           1          11.170661          35.505178       0             1   \n",
              "\n",
              "      SUP Gender_M  Gender_F  Gender_M  SUP Older Than EMP  Age Diff SUPvsEMP  \\\n",
              "2114             0         1         0                   0           2.499709   \n",
              "2685             0         1         0                   0           1.418236   \n",
              "3358             0         1         0                   0          10.168587   \n",
              "3380             0         0         1                   0           4.753007   \n",
              "3221             0         1         0                   0          11.668960   \n",
              "\n",
              "      EduAllowFinishedIn1y  EduAllowYearDiff  EDU Allowance  House Loan  \\\n",
              "2114                   0.0               2.0              1           1   \n",
              "2685                   NaN               NaN              0           0   \n",
              "3358                   1.0              -1.0              1           0   \n",
              "3380                   NaN               NaN              0           0   \n",
              "3221                   NaN               NaN              0           0   \n",
              "\n",
              "      Is STEM  MAX Degree  Year After Grad  countAbsence1y  Absence1y  \\\n",
              "2114        0         3.0         1.514063              15       19.0   \n",
              "2685        0         3.0         7.173316              18       17.0   \n",
              "3358        0         NaN         0.000000               6       14.0   \n",
              "3380        1         3.0         0.668049               7        6.0   \n",
              "3221        0         2.0         1.278603               6       23.0   \n",
              "\n",
              "      countAbsenceLast3m  AbsenceLast3m  VAC_DependentCare  VAC_Maternity  \\\n",
              "2114                  12           13.0                0.0           30.5   \n",
              "2685                   6            6.0                0.0            0.0   \n",
              "3358                   6           14.0                0.0            0.0   \n",
              "3380                   7            6.0                0.0            0.0   \n",
              "3221                   4            6.0                0.0            0.0   \n",
              "\n",
              "      VAC_Others  VAC_Personal  VAC_Sick  VAC_Vacation  \n",
              "2114         0.0           3.0      1.25      1.181818  \n",
              "2685         0.0           0.0      0.00      1.022727  \n",
              "3358         0.0           0.0      1.00      2.333333  \n",
              "3380         0.0           1.6      0.00      1.000000  \n",
              "3221         0.0           1.0      0.75      3.200000  "
            ]
          },
          "metadata": {
            "tags": []
          },
          "execution_count": 9
        }
      ]
    },
    {
      "metadata": {
        "id": "bGKvGj7qUb6J",
        "colab_type": "text"
      },
      "cell_type": "markdown",
      "source": [
        "# **Logistic Regression**"
      ]
    },
    {
      "metadata": {
        "id": "obUBoNLXCvEF",
        "colab_type": "code",
        "colab": {}
      },
      "cell_type": "code",
      "source": [
        "#Logistic Regression don't accept NaN value\n",
        "DropCol = [\n",
        "    'EduAllowYearDiff',\n",
        "    'EduAllowFinishedIn1y',\n",
        "    'MAX Degree'\n",
        "]\n",
        "X_Train.drop(DropCol, axis=1, inplace=True)\n",
        "X_Test.drop(DropCol, axis=1, inplace=True)"
      ],
      "execution_count": 0,
      "outputs": []
    },
    {
      "metadata": {
        "id": "TmXO4k5pUyMy",
        "colab_type": "code",
        "colab": {}
      },
      "cell_type": "code",
      "source": [
        "from sklearn.linear_model import LogisticRegression"
      ],
      "execution_count": 0,
      "outputs": []
    },
    {
      "metadata": {
        "id": "d3y7AnSVUzy7",
        "colab_type": "code",
        "colab": {}
      },
      "cell_type": "code",
      "source": [
        "lr = LogisticRegression(C=1.0)\n",
        "lr_Model = lr.fit(X_Train,Y_Train)"
      ],
      "execution_count": 0,
      "outputs": []
    },
    {
      "metadata": {
        "id": "9L9HtAmqVgoD",
        "colab_type": "code",
        "colab": {}
      },
      "cell_type": "code",
      "source": [
        "lr_Pred = lr.predict(X_Test)"
      ],
      "execution_count": 0,
      "outputs": []
    },
    {
      "metadata": {
        "id": "Rv032K4XV2rq",
        "colab_type": "code",
        "outputId": "8e81013c-6370-47d6-da7b-8052e89f7a56",
        "colab": {
          "base_uri": "https://localhost:8080/",
          "height": 136
        }
      },
      "cell_type": "code",
      "source": [
        "from sklearn.metrics import classification_report,confusion_matrix\n",
        "print(classification_report(Y_Test,lr_Pred))"
      ],
      "execution_count": 14,
      "outputs": [
        {
          "output_type": "stream",
          "text": [
            "             precision    recall  f1-score   support\n",
            "\n",
            "          0       0.81      0.90      0.85       716\n",
            "          1       0.81      0.66      0.72       445\n",
            "\n",
            "avg / total       0.81      0.81      0.80      1161\n",
            "\n"
          ],
          "name": "stdout"
        }
      ]
    },
    {
      "metadata": {
        "id": "ExSSQOcyXUBi",
        "colab_type": "text"
      },
      "cell_type": "markdown",
      "source": [
        "# **Naive Bayes**"
      ]
    },
    {
      "metadata": {
        "id": "EG6Xw5yaG4o_",
        "colab_type": "code",
        "colab": {}
      },
      "cell_type": "code",
      "source": [
        "X_Train = X_Train_Master.copy()\n",
        "X_Test = X_Test_Master.copy()\n",
        "Y_Train = Y_Train_Master.copy()\n",
        "Y_Test = Y_Test_Master.copy()\n",
        "\n",
        "#Logistic Regression don't accept NaN value\n",
        "DropCol = [\n",
        "    'EduAllowYearDiff',\n",
        "    'EduAllowFinishedIn1y',\n",
        "    'MAX Degree'\n",
        "]\n",
        "X_Train.drop(DropCol, axis=1, inplace=True)\n",
        "X_Test.drop(DropCol, axis=1, inplace=True)"
      ],
      "execution_count": 0,
      "outputs": []
    },
    {
      "metadata": {
        "id": "FAa1O7ssXYQJ",
        "colab_type": "code",
        "colab": {}
      },
      "cell_type": "code",
      "source": [
        "from sklearn.naive_bayes import GaussianNB"
      ],
      "execution_count": 0,
      "outputs": []
    },
    {
      "metadata": {
        "id": "iL441SbjXd06",
        "colab_type": "code",
        "colab": {}
      },
      "cell_type": "code",
      "source": [
        "gnb = GaussianNB()\n",
        "gnb_Model = gnb.fit(X_Train,Y_Train)"
      ],
      "execution_count": 0,
      "outputs": []
    },
    {
      "metadata": {
        "id": "RGoO9JW1Xnvy",
        "colab_type": "code",
        "colab": {}
      },
      "cell_type": "code",
      "source": [
        "gnb_Predict = gnb_Model.predict(X_Test)"
      ],
      "execution_count": 0,
      "outputs": []
    },
    {
      "metadata": {
        "id": "kufVS48DYRHy",
        "colab_type": "code",
        "outputId": "338db091-bff6-4df1-907a-ca7ce3db7d32",
        "colab": {
          "base_uri": "https://localhost:8080/",
          "height": 136
        }
      },
      "cell_type": "code",
      "source": [
        "print(classification_report(Y_Test,gnb_Predict))"
      ],
      "execution_count": 19,
      "outputs": [
        {
          "output_type": "stream",
          "text": [
            "             precision    recall  f1-score   support\n",
            "\n",
            "          0       0.88      0.57      0.69       716\n",
            "          1       0.56      0.88      0.68       445\n",
            "\n",
            "avg / total       0.76      0.69      0.69      1161\n",
            "\n"
          ],
          "name": "stdout"
        }
      ]
    },
    {
      "metadata": {
        "id": "mLFcvLT5-vzu",
        "colab_type": "text"
      },
      "cell_type": "markdown",
      "source": [
        "# **Decision Tree**"
      ]
    },
    {
      "metadata": {
        "id": "L_XCatHvIP7h",
        "colab_type": "code",
        "colab": {}
      },
      "cell_type": "code",
      "source": [
        "X_Train = X_Train_Master.copy()\n",
        "X_Test = X_Test_Master.copy()\n",
        "Y_Train = Y_Train_Master.copy()\n",
        "Y_Test = Y_Test_Master.copy()\n",
        "\n",
        "#Logistic Regression don't accept NaN value\n",
        "DropCol = [\n",
        "    'EduAllowYearDiff',\n",
        "    'EduAllowFinishedIn1y',\n",
        "    'MAX Degree'\n",
        "]\n",
        "X_Train.drop(DropCol, axis=1, inplace=True)\n",
        "X_Test.drop(DropCol, axis=1, inplace=True)"
      ],
      "execution_count": 0,
      "outputs": []
    },
    {
      "metadata": {
        "id": "UmEXPZZh-uGW",
        "colab_type": "code",
        "colab": {}
      },
      "cell_type": "code",
      "source": [
        "from sklearn.tree import DecisionTreeClassifier"
      ],
      "execution_count": 0,
      "outputs": []
    },
    {
      "metadata": {
        "id": "ldEPZtmiAc9t",
        "colab_type": "code",
        "colab": {}
      },
      "cell_type": "code",
      "source": [
        "dtree = DecisionTreeClassifier(min_samples_leaf=5, max_leaf_nodes=6, criterion='entropy')"
      ],
      "execution_count": 0,
      "outputs": []
    },
    {
      "metadata": {
        "id": "mq0uFDo3AyZt",
        "colab_type": "code",
        "outputId": "328a1b66-78fc-41f6-e250-5951d843ada6",
        "colab": {
          "base_uri": "https://localhost:8080/",
          "height": 102
        }
      },
      "cell_type": "code",
      "source": [
        "dtree.fit(X_Train,Y_Train)"
      ],
      "execution_count": 23,
      "outputs": [
        {
          "output_type": "execute_result",
          "data": {
            "text/plain": [
              "DecisionTreeClassifier(class_weight=None, criterion='entropy', max_depth=None,\n",
              "            max_features=None, max_leaf_nodes=6, min_impurity_decrease=0.0,\n",
              "            min_impurity_split=None, min_samples_leaf=5,\n",
              "            min_samples_split=2, min_weight_fraction_leaf=0.0,\n",
              "            presort=False, random_state=None, splitter='best')"
            ]
          },
          "metadata": {
            "tags": []
          },
          "execution_count": 23
        }
      ]
    },
    {
      "metadata": {
        "id": "-3dMvlAvA1Qs",
        "colab_type": "code",
        "colab": {}
      },
      "cell_type": "code",
      "source": [
        "predictions = dtree.predict(X_Test)"
      ],
      "execution_count": 0,
      "outputs": []
    },
    {
      "metadata": {
        "id": "8nT77V3RHDuj",
        "colab_type": "code",
        "outputId": "97b48436-fc7b-4ec8-f677-7f1ba6eebffd",
        "colab": {
          "base_uri": "https://localhost:8080/",
          "height": 136
        }
      },
      "cell_type": "code",
      "source": [
        "print(classification_report(Y_Test,predictions))"
      ],
      "execution_count": 25,
      "outputs": [
        {
          "output_type": "stream",
          "text": [
            "             precision    recall  f1-score   support\n",
            "\n",
            "          0       0.79      0.84      0.82       716\n",
            "          1       0.72      0.65      0.68       445\n",
            "\n",
            "avg / total       0.76      0.77      0.76      1161\n",
            "\n"
          ],
          "name": "stdout"
        }
      ]
    },
    {
      "metadata": {
        "id": "kvNPwD95m97e",
        "colab_type": "code",
        "colab": {
          "base_uri": "https://localhost:8080/",
          "height": 136
        },
        "outputId": "307eea27-ef5c-45b0-999b-ab255b4117fb"
      },
      "cell_type": "code",
      "source": [
        "dtree = DecisionTreeClassifier(min_samples_leaf=5, max_leaf_nodes=6, criterion='entropy', max_features=8)\n",
        "dtree.fit(X_Train,Y_Train)\n",
        "predictions = dtree.predict(X_Test)\n",
        "print(classification_report(Y_Test,predictions))"
      ],
      "execution_count": 55,
      "outputs": [
        {
          "output_type": "stream",
          "text": [
            "             precision    recall  f1-score   support\n",
            "\n",
            "          0       0.76      0.80      0.78       716\n",
            "          1       0.65      0.58      0.61       445\n",
            "\n",
            "avg / total       0.71      0.72      0.72      1161\n",
            "\n"
          ],
          "name": "stdout"
        }
      ]
    },
    {
      "metadata": {
        "id": "J7nKP1FcnbPM",
        "colab_type": "code",
        "colab": {}
      },
      "cell_type": "code",
      "source": [
        "features = list(X_Train.columns[:])\n"
      ],
      "execution_count": 0,
      "outputs": []
    },
    {
      "metadata": {
        "id": "bU-rokhDnOQv",
        "colab_type": "code",
        "colab": {
          "base_uri": "https://localhost:8080/",
          "height": 514
        },
        "outputId": "68fc3e2d-3e8f-4b60-88f6-5f698210c865"
      },
      "cell_type": "code",
      "source": [
        "dot_data = StringIO()  \n",
        "export_graphviz(dtree, out_file=dot_data,feature_names=features,filled=True,rounded=True)\n",
        "\n",
        "graph = pydot.graph_from_dot_data(dot_data.getvalue())  \n",
        "Image(graph[0].create_png())  "
      ],
      "execution_count": 56,
      "outputs": [
        {
          "output_type": "execute_result",
          "data": {
            "image/png": "[encoded data removed]",
            "text/plain": [
              "<IPython.core.display.Image object>"
            ]
          },
          "metadata": {
            "tags": []
          },
          "execution_count": 56
        }
      ]
    },
    {
      "metadata": {
        "id": "RKEBfxIGBEGZ",
        "colab_type": "text"
      },
      "cell_type": "markdown",
      "source": [
        "**Visualize Tree**"
      ]
    },
    {
      "metadata": {
        "id": "iGYcoBoCHVQL",
        "colab_type": "code",
        "outputId": "2816f220-2ec5-4dd3-e7b0-a2b43807b13f",
        "colab": {
          "base_uri": "https://localhost:8080/",
          "height": 3179
        }
      },
      "cell_type": "code",
      "source": [
        "!pip install pydot\n",
        "!pip install pyparsing\n",
        "!apt-get install graphviz"
      ],
      "execution_count": 26,
      "outputs": [
        {
          "output_type": "stream",
          "text": [
            "Collecting pydot\n",
            "\u001b[?25l  Downloading https://files.pythonhosted.org/packages/c3/f1/e61d6dfe6c1768ed2529761a68f70939e2569da043e9f15a8d84bf56cadf/pydot-1.2.4.tar.gz (132kB)\n",
            "\r\u001b[K    7% |██▌                             | 10kB 15.3MB/s eta 0:00:01\r\u001b[K    15% |█████                           | 20kB 1.6MB/s eta 0:00:01\r\u001b[K    23% |███████▌                        | 30kB 1.9MB/s eta 0:00:01\r\u001b[K    31% |██████████                      | 40kB 1.7MB/s eta 0:00:01\r\u001b[K    38% |████████████▍                   | 51kB 1.9MB/s eta 0:00:01\r\u001b[K    46% |███████████████                 | 61kB 2.2MB/s eta 0:00:01\r\u001b[K    54% |█████████████████▍              | 71kB 2.4MB/s eta 0:00:01\r\u001b[K    62% |███████████████████▉            | 81kB 2.2MB/s eta 0:00:01\r\u001b[K    69% |██████████████████████▍         | 92kB 2.5MB/s eta 0:00:01\r\u001b[K    77% |████████████████████████▉       | 102kB 2.6MB/s eta 0:00:01\r\u001b[K    85% |███████████████████████████▎    | 112kB 2.6MB/s eta 0:00:01\r\u001b[K    93% |█████████████████████████████▉  | 122kB 3.4MB/s eta 0:00:01\r\u001b[K    100% |████████████████████████████████| 133kB 3.4MB/s \n",
            "\u001b[?25hRequirement already satisfied: pyparsing>=2.1.4 in /usr/local/lib/python3.6/dist-packages (from pydot) (2.2.2)\n",
            "Building wheels for collected packages: pydot\n",
            "  Running setup.py bdist_wheel for pydot ... \u001b[?25l-\b \b\\\b \bdone\n",
            "\u001b[?25h  Stored in directory: /root/.cache/pip/wheels/6a/a5/14/25541ebcdeaf97a37b6d05c7ff15f5bd20f5e91b99d313e5b4\n",
            "Successfully built pydot\n",
            "Installing collected packages: pydot\n",
            "Successfully installed pydot-1.2.4\n",
            "Requirement already satisfied: pyparsing in /usr/local/lib/python3.6/dist-packages (2.2.2)\n",
            "Reading package lists... Done\n",
            "Building dependency tree       \n",
            "Reading state information... Done\n",
            "The following additional packages will be installed:\n",
            "  fontconfig libann0 libcairo2 libcdt5 libcgraph6 libdatrie1 libgd3\n",
            "  libgts-0.7-5 libgts-bin libgvc6 libgvpr2 libjbig0 liblab-gamut1 libltdl7\n",
            "  libpango-1.0-0 libpangocairo-1.0-0 libpangoft2-1.0-0 libpathplan4\n",
            "  libpixman-1-0 libthai-data libthai0 libtiff5 libwebp6 libxaw7 libxcb-render0\n",
            "  libxcb-shm0 libxmu6 libxpm4 libxt6\n",
            "Suggested packages:\n",
            "  gsfonts graphviz-doc libgd-tools\n",
            "The following NEW packages will be installed:\n",
            "  fontconfig graphviz libann0 libcairo2 libcdt5 libcgraph6 libdatrie1 libgd3\n",
            "  libgts-0.7-5 libgts-bin libgvc6 libgvpr2 libjbig0 liblab-gamut1 libltdl7\n",
            "  libpango-1.0-0 libpangocairo-1.0-0 libpangoft2-1.0-0 libpathplan4\n",
            "  libpixman-1-0 libthai-data libthai0 libtiff5 libwebp6 libxaw7 libxcb-render0\n",
            "  libxcb-shm0 libxmu6 libxpm4 libxt6\n",
            "0 upgraded, 30 newly installed, 0 to remove and 2 not upgraded.\n",
            "Need to get 4,154 kB of archives.\n",
            "After this operation, 16.1 MB of additional disk space will be used.\n",
            "Get:1 http://archive.ubuntu.com/ubuntu bionic/main amd64 fontconfig amd64 2.12.6-0ubuntu2 [169 kB]\n",
            "Get:2 http://archive.ubuntu.com/ubuntu bionic/universe amd64 libann0 amd64 1.1.2+doc-6 [24.8 kB]\n",
            "Get:3 http://archive.ubuntu.com/ubuntu bionic/universe amd64 libcdt5 amd64 2.40.1-2 [19.6 kB]\n",
            "Get:4 http://archive.ubuntu.com/ubuntu bionic/universe amd64 libcgraph6 amd64 2.40.1-2 [40.8 kB]\n",
            "Get:5 http://archive.ubuntu.com/ubuntu bionic/main amd64 libjbig0 amd64 2.1-3.1build1 [26.7 kB]\n",
            "Get:6 http://archive.ubuntu.com/ubuntu bionic/main amd64 libtiff5 amd64 4.0.9-5 [152 kB]\n",
            "Get:7 http://archive.ubuntu.com/ubuntu bionic/main amd64 libwebp6 amd64 0.6.1-2 [185 kB]\n",
            "Get:8 http://archive.ubuntu.com/ubuntu bionic/main amd64 libxpm4 amd64 1:3.5.12-1 [34.0 kB]\n",
            "Get:9 http://archive.ubuntu.com/ubuntu bionic-updates/main amd64 libgd3 amd64 2.2.5-4ubuntu0.2 [119 kB]\n",
            "Get:10 http://archive.ubuntu.com/ubuntu bionic/universe amd64 libgts-0.7-5 amd64 0.7.6+darcs121130-4 [150 kB]\n",
            "Get:11 http://archive.ubuntu.com/ubuntu bionic/main amd64 libpixman-1-0 amd64 0.34.0-2 [229 kB]\n",
            "Get:12 http://archive.ubuntu.com/ubuntu bionic/main amd64 libxcb-render0 amd64 1.13-1 [14.7 kB]\n",
            "Get:13 http://archive.ubuntu.com/ubuntu bionic/main amd64 libxcb-shm0 amd64 1.13-1 [5,572 B]\n",
            "Get:14 http://archive.ubuntu.com/ubuntu bionic/main amd64 libcairo2 amd64 1.15.10-2 [580 kB]\n",
            "Get:15 http://archive.ubuntu.com/ubuntu bionic/main amd64 libltdl7 amd64 2.4.6-2 [38.8 kB]\n",
            "Get:16 http://archive.ubuntu.com/ubuntu bionic/main amd64 libthai-data all 0.1.27-2 [133 kB]\n",
            "Get:17 http://archive.ubuntu.com/ubuntu bionic/main amd64 libdatrie1 amd64 0.2.10-7 [17.8 kB]\n",
            "Get:18 http://archive.ubuntu.com/ubuntu bionic/main amd64 libthai0 amd64 0.1.27-2 [18.0 kB]\n",
            "Get:19 http://archive.ubuntu.com/ubuntu bionic-updates/main amd64 libpango-1.0-0 amd64 1.40.14-1ubuntu0.1 [153 kB]\n",
            "Get:20 http://archive.ubuntu.com/ubuntu bionic-updates/main amd64 libpangoft2-1.0-0 amd64 1.40.14-1ubuntu0.1 [33.2 kB]\n",
            "Get:21 http://archive.ubuntu.com/ubuntu bionic-updates/main amd64 libpangocairo-1.0-0 amd64 1.40.14-1ubuntu0.1 [20.8 kB]\n",
            "Get:22 http://archive.ubuntu.com/ubuntu bionic/universe amd64 libpathplan4 amd64 2.40.1-2 [22.6 kB]\n",
            "Get:23 http://archive.ubuntu.com/ubuntu bionic/universe amd64 libgvc6 amd64 2.40.1-2 [601 kB]\n",
            "Get:24 http://archive.ubuntu.com/ubuntu bionic/universe amd64 libgvpr2 amd64 2.40.1-2 [169 kB]\n",
            "Get:25 http://archive.ubuntu.com/ubuntu bionic/universe amd64 liblab-gamut1 amd64 2.40.1-2 [178 kB]\n",
            "Get:26 http://archive.ubuntu.com/ubuntu bionic/main amd64 libxt6 amd64 1:1.1.5-1 [160 kB]\n",
            "Get:27 http://archive.ubuntu.com/ubuntu bionic/main amd64 libxmu6 amd64 2:1.1.2-2 [46.0 kB]\n",
            "Get:28 http://archive.ubuntu.com/ubuntu bionic/main amd64 libxaw7 amd64 2:1.0.13-1 [173 kB]\n",
            "Get:29 http://archive.ubuntu.com/ubuntu bionic/universe amd64 graphviz amd64 2.40.1-2 [601 kB]\n",
            "Get:30 http://archive.ubuntu.com/ubuntu bionic/universe amd64 libgts-bin amd64 0.7.6+darcs121130-4 [41.3 kB]\n",
            "Fetched 4,154 kB in 1s (3,516 kB/s)\n",
            "Selecting previously unselected package fontconfig.\n",
            "(Reading database ... 22280 files and directories currently installed.)\n",
            "Preparing to unpack .../00-fontconfig_2.12.6-0ubuntu2_amd64.deb ...\n",
            "Unpacking fontconfig (2.12.6-0ubuntu2) ...\n",
            "Selecting previously unselected package libann0.\n",
            "Preparing to unpack .../01-libann0_1.1.2+doc-6_amd64.deb ...\n",
            "Unpacking libann0 (1.1.2+doc-6) ...\n",
            "Selecting previously unselected package libcdt5.\n",
            "Preparing to unpack .../02-libcdt5_2.40.1-2_amd64.deb ...\n",
            "Unpacking libcdt5 (2.40.1-2) ...\n",
            "Selecting previously unselected package libcgraph6.\n",
            "Preparing to unpack .../03-libcgraph6_2.40.1-2_amd64.deb ...\n",
            "Unpacking libcgraph6 (2.40.1-2) ...\n",
            "Selecting previously unselected package libjbig0:amd64.\n",
            "Preparing to unpack .../04-libjbig0_2.1-3.1build1_amd64.deb ...\n",
            "Unpacking libjbig0:amd64 (2.1-3.1build1) ...\n",
            "Selecting previously unselected package libtiff5:amd64.\n",
            "Preparing to unpack .../05-libtiff5_4.0.9-5_amd64.deb ...\n",
            "Unpacking libtiff5:amd64 (4.0.9-5) ...\n",
            "Selecting previously unselected package libwebp6:amd64.\n",
            "Preparing to unpack .../06-libwebp6_0.6.1-2_amd64.deb ...\n",
            "Unpacking libwebp6:amd64 (0.6.1-2) ...\n",
            "Selecting previously unselected package libxpm4:amd64.\n",
            "Preparing to unpack .../07-libxpm4_1%3a3.5.12-1_amd64.deb ...\n",
            "Unpacking libxpm4:amd64 (1:3.5.12-1) ...\n",
            "Selecting previously unselected package libgd3:amd64.\n",
            "Preparing to unpack .../08-libgd3_2.2.5-4ubuntu0.2_amd64.deb ...\n",
            "Unpacking libgd3:amd64 (2.2.5-4ubuntu0.2) ...\n",
            "Selecting previously unselected package libgts-0.7-5:amd64.\n",
            "Preparing to unpack .../09-libgts-0.7-5_0.7.6+darcs121130-4_amd64.deb ...\n",
            "Unpacking libgts-0.7-5:amd64 (0.7.6+darcs121130-4) ...\n",
            "Selecting previously unselected package libpixman-1-0:amd64.\n",
            "Preparing to unpack .../10-libpixman-1-0_0.34.0-2_amd64.deb ...\n",
            "Unpacking libpixman-1-0:amd64 (0.34.0-2) ...\n",
            "Selecting previously unselected package libxcb-render0:amd64.\n",
            "Preparing to unpack .../11-libxcb-render0_1.13-1_amd64.deb ...\n",
            "Unpacking libxcb-render0:amd64 (1.13-1) ...\n",
            "Selecting previously unselected package libxcb-shm0:amd64.\n",
            "Preparing to unpack .../12-libxcb-shm0_1.13-1_amd64.deb ...\n",
            "Unpacking libxcb-shm0:amd64 (1.13-1) ...\n",
            "Selecting previously unselected package libcairo2:amd64.\n",
            "Preparing to unpack .../13-libcairo2_1.15.10-2_amd64.deb ...\n",
            "Unpacking libcairo2:amd64 (1.15.10-2) ...\n",
            "Selecting previously unselected package libltdl7:amd64.\n",
            "Preparing to unpack .../14-libltdl7_2.4.6-2_amd64.deb ...\n",
            "Unpacking libltdl7:amd64 (2.4.6-2) ...\n",
            "Selecting previously unselected package libthai-data.\n",
            "Preparing to unpack .../15-libthai-data_0.1.27-2_all.deb ...\n",
            "Unpacking libthai-data (0.1.27-2) ...\n",
            "Selecting previously unselected package libdatrie1:amd64.\n",
            "Preparing to unpack .../16-libdatrie1_0.2.10-7_amd64.deb ...\n",
            "Unpacking libdatrie1:amd64 (0.2.10-7) ...\n",
            "Selecting previously unselected package libthai0:amd64.\n",
            "Preparing to unpack .../17-libthai0_0.1.27-2_amd64.deb ...\n",
            "Unpacking libthai0:amd64 (0.1.27-2) ...\n",
            "Selecting previously unselected package libpango-1.0-0:amd64.\n",
            "Preparing to unpack .../18-libpango-1.0-0_1.40.14-1ubuntu0.1_amd64.deb ...\n",
            "Unpacking libpango-1.0-0:amd64 (1.40.14-1ubuntu0.1) ...\n",
            "Selecting previously unselected package libpangoft2-1.0-0:amd64.\n",
            "Preparing to unpack .../19-libpangoft2-1.0-0_1.40.14-1ubuntu0.1_amd64.deb ...\n",
            "Unpacking libpangoft2-1.0-0:amd64 (1.40.14-1ubuntu0.1) ...\n",
            "Selecting previously unselected package libpangocairo-1.0-0:amd64.\n",
            "Preparing to unpack .../20-libpangocairo-1.0-0_1.40.14-1ubuntu0.1_amd64.deb ...\n",
            "Unpacking libpangocairo-1.0-0:amd64 (1.40.14-1ubuntu0.1) ...\n",
            "Selecting previously unselected package libpathplan4.\n",
            "Preparing to unpack .../21-libpathplan4_2.40.1-2_amd64.deb ...\n",
            "Unpacking libpathplan4 (2.40.1-2) ...\n",
            "Selecting previously unselected package libgvc6.\n",
            "Preparing to unpack .../22-libgvc6_2.40.1-2_amd64.deb ...\n",
            "Unpacking libgvc6 (2.40.1-2) ...\n",
            "Selecting previously unselected package libgvpr2.\n",
            "Preparing to unpack .../23-libgvpr2_2.40.1-2_amd64.deb ...\n",
            "Unpacking libgvpr2 (2.40.1-2) ...\n",
            "Selecting previously unselected package liblab-gamut1.\n",
            "Preparing to unpack .../24-liblab-gamut1_2.40.1-2_amd64.deb ...\n",
            "Unpacking liblab-gamut1 (2.40.1-2) ...\n",
            "Selecting previously unselected package libxt6:amd64.\n",
            "Preparing to unpack .../25-libxt6_1%3a1.1.5-1_amd64.deb ...\n",
            "Unpacking libxt6:amd64 (1:1.1.5-1) ...\n",
            "Selecting previously unselected package libxmu6:amd64.\n",
            "Preparing to unpack .../26-libxmu6_2%3a1.1.2-2_amd64.deb ...\n",
            "Unpacking libxmu6:amd64 (2:1.1.2-2) ...\n",
            "Selecting previously unselected package libxaw7:amd64.\n",
            "Preparing to unpack .../27-libxaw7_2%3a1.0.13-1_amd64.deb ...\n",
            "Unpacking libxaw7:amd64 (2:1.0.13-1) ...\n",
            "Selecting previously unselected package graphviz.\n",
            "Preparing to unpack .../28-graphviz_2.40.1-2_amd64.deb ...\n",
            "Unpacking graphviz (2.40.1-2) ...\n",
            "Selecting previously unselected package libgts-bin.\n",
            "Preparing to unpack .../29-libgts-bin_0.7.6+darcs121130-4_amd64.deb ...\n",
            "Unpacking libgts-bin (0.7.6+darcs121130-4) ...\n",
            "Setting up libgts-0.7-5:amd64 (0.7.6+darcs121130-4) ...\n",
            "Setting up libpathplan4 (2.40.1-2) ...\n",
            "Setting up liblab-gamut1 (2.40.1-2) ...\n",
            "Setting up libxcb-render0:amd64 (1.13-1) ...\n",
            "Setting up libjbig0:amd64 (2.1-3.1build1) ...\n",
            "Setting up libdatrie1:amd64 (0.2.10-7) ...\n",
            "Setting up libtiff5:amd64 (4.0.9-5) ...\n",
            "Setting up libpixman-1-0:amd64 (0.34.0-2) ...\n",
            "Processing triggers for libc-bin (2.27-3ubuntu1) ...\n",
            "Setting up libltdl7:amd64 (2.4.6-2) ...\n",
            "Setting up libann0 (1.1.2+doc-6) ...\n",
            "Setting up libxcb-shm0:amd64 (1.13-1) ...\n",
            "Setting up libxpm4:amd64 (1:3.5.12-1) ...\n",
            "Setting up libxt6:amd64 (1:1.1.5-1) ...\n",
            "Setting up libgts-bin (0.7.6+darcs121130-4) ...\n",
            "Setting up libthai-data (0.1.27-2) ...\n",
            "Setting up libcdt5 (2.40.1-2) ...\n",
            "Setting up fontconfig (2.12.6-0ubuntu2) ...\n",
            "Regenerating fonts cache... done.\n",
            "Setting up libcgraph6 (2.40.1-2) ...\n",
            "Setting up libwebp6:amd64 (0.6.1-2) ...\n",
            "Setting up libcairo2:amd64 (1.15.10-2) ...\n",
            "Setting up libgvpr2 (2.40.1-2) ...\n",
            "Setting up libgd3:amd64 (2.2.5-4ubuntu0.2) ...\n",
            "Setting up libthai0:amd64 (0.1.27-2) ...\n",
            "Setting up libxmu6:amd64 (2:1.1.2-2) ...\n",
            "Setting up libpango-1.0-0:amd64 (1.40.14-1ubuntu0.1) ...\n",
            "Setting up libxaw7:amd64 (2:1.0.13-1) ...\n",
            "Setting up libpangoft2-1.0-0:amd64 (1.40.14-1ubuntu0.1) ...\n",
            "Setting up libpangocairo-1.0-0:amd64 (1.40.14-1ubuntu0.1) ...\n",
            "Setting up libgvc6 (2.40.1-2) ...\n",
            "Setting up graphviz (2.40.1-2) ...\n",
            "Processing triggers for libc-bin (2.27-3ubuntu1) ...\n"
          ],
          "name": "stdout"
        }
      ]
    },
    {
      "metadata": {
        "id": "BS4PkBwiA9D8",
        "colab_type": "code",
        "outputId": "3f4b7459-0c39-4589-d2d8-72cdd77edd74",
        "colab": {
          "base_uri": "https://localhost:8080/",
          "height": 510
        }
      },
      "cell_type": "code",
      "source": [
        "from IPython.display import Image  \n",
        "from sklearn.externals.six import StringIO  \n",
        "from sklearn.tree import export_graphviz\n",
        "import pydot \n",
        " \n",
        "features = list(X_Train.columns[:])\n",
        "features"
      ],
      "execution_count": 27,
      "outputs": [
        {
          "output_type": "execute_result",
          "data": {
            "text/plain": [
              "['BSC Indicator',\n",
              " 'Is MPT',\n",
              " 'Is Re-Entry',\n",
              " 'Exp at Action',\n",
              " 'Age at Action',\n",
              " 'SUP Is MPT',\n",
              " 'SUP Exp at Action',\n",
              " 'SUP Age at Action',\n",
              " 'Is SUP',\n",
              " 'SUP Gender_F',\n",
              " 'SUP Gender_M',\n",
              " 'Gender_F',\n",
              " 'Gender_M',\n",
              " 'SUP Older Than EMP',\n",
              " 'Age Diff SUPvsEMP',\n",
              " 'EDU Allowance',\n",
              " 'House Loan',\n",
              " 'Is STEM',\n",
              " 'Year After Grad',\n",
              " 'countAbsence1y',\n",
              " 'Absence1y',\n",
              " 'countAbsenceLast3m',\n",
              " 'AbsenceLast3m',\n",
              " 'VAC_DependentCare',\n",
              " 'VAC_Maternity',\n",
              " 'VAC_Others',\n",
              " 'VAC_Personal',\n",
              " 'VAC_Sick',\n",
              " 'VAC_Vacation']"
            ]
          },
          "metadata": {
            "tags": []
          },
          "execution_count": 27
        }
      ]
    },
    {
      "metadata": {
        "id": "1T2OpGAlmP5B",
        "colab_type": "code",
        "colab": {}
      },
      "cell_type": "code",
      "source": [
        "for feature in features:\n",
        "  temp = x\n",
        "  "
      ],
      "execution_count": 0,
      "outputs": []
    },
    {
      "metadata": {
        "id": "zlHfckwjBGcj",
        "colab_type": "code",
        "outputId": "f5b71dbd-dd1b-4a6c-b95e-52c6f16546b5",
        "colab": {
          "base_uri": "https://localhost:8080/",
          "height": 514
        }
      },
      "cell_type": "code",
      "source": [
        "dot_data = StringIO()  \n",
        "export_graphviz(dtree, out_file=dot_data,feature_names=features,filled=True,rounded=True)\n",
        "\n",
        "graph = pydot.graph_from_dot_data(dot_data.getvalue())  \n",
        "Image(graph[0].create_png())  "
      ],
      "execution_count": 28,
      "outputs": [
        {
          "output_type": "execute_result",
          "data": {
            "image/png": "[encoded data removed]",
            "text/plain": [
              "<IPython.core.display.Image object>"
            ]
          },
          "metadata": {
            "tags": []
          },
          "execution_count": 28
        }
      ]
    },
    {
      "metadata": {
        "id": "A3v87xSBmOdL",
        "colab_type": "code",
        "colab": {}
      },
      "cell_type": "code",
      "source": [
        ""
      ],
      "execution_count": 0,
      "outputs": []
    },
    {
      "metadata": {
        "id": "W3UDb6vbNyxK",
        "colab_type": "text"
      },
      "cell_type": "markdown",
      "source": [
        "# **RandomForest**"
      ]
    },
    {
      "metadata": {
        "id": "rmAbNCqjIm3f",
        "colab_type": "code",
        "colab": {}
      },
      "cell_type": "code",
      "source": [
        "X_Train = X_Train_Master.copy()\n",
        "X_Test = X_Test_Master.copy()\n",
        "Y_Train = Y_Train_Master.copy()\n",
        "Y_Test = Y_Test_Master.copy()\n",
        "\n",
        "#Random Forest doesn't accept NaN value\n",
        "DropCol = [\n",
        "    'EduAllowYearDiff',\n",
        "    'EduAllowFinishedIn1y',\n",
        "    'MAX Degree'\n",
        "]\n",
        "X_Train.drop(DropCol, axis=1, inplace=True)\n",
        "X_Test.drop(DropCol, axis=1, inplace=True)"
      ],
      "execution_count": 0,
      "outputs": []
    },
    {
      "metadata": {
        "id": "cYFQzpIFLgYm",
        "colab_type": "code",
        "outputId": "2e199ae2-680c-426a-ca51-5d230e859dd4",
        "colab": {
          "base_uri": "https://localhost:8080/",
          "height": 136
        }
      },
      "cell_type": "code",
      "source": [
        "from sklearn.ensemble import RandomForestClassifier\n",
        "rfc = RandomForestClassifier(n_estimators=100)\n",
        "rfc.fit(X_Train, Y_Train)"
      ],
      "execution_count": 30,
      "outputs": [
        {
          "output_type": "execute_result",
          "data": {
            "text/plain": [
              "RandomForestClassifier(bootstrap=True, class_weight=None, criterion='gini',\n",
              "            max_depth=None, max_features='auto', max_leaf_nodes=None,\n",
              "            min_impurity_decrease=0.0, min_impurity_split=None,\n",
              "            min_samples_leaf=1, min_samples_split=2,\n",
              "            min_weight_fraction_leaf=0.0, n_estimators=100, n_jobs=1,\n",
              "            oob_score=False, random_state=None, verbose=0,\n",
              "            warm_start=False)"
            ]
          },
          "metadata": {
            "tags": []
          },
          "execution_count": 30
        }
      ]
    },
    {
      "metadata": {
        "id": "mbx9fFI7Ln74",
        "colab_type": "code",
        "colab": {}
      },
      "cell_type": "code",
      "source": [
        "rfd_Pred = rfc.predict(X_Test)"
      ],
      "execution_count": 0,
      "outputs": []
    },
    {
      "metadata": {
        "id": "MlOy2KH6L8JW",
        "colab_type": "code",
        "outputId": "9bee4087-5ba7-4af3-893c-e12813b33aaa",
        "colab": {
          "base_uri": "https://localhost:8080/",
          "height": 51
        }
      },
      "cell_type": "code",
      "source": [
        "confusion_matrix(Y_Test,rfd_Pred)"
      ],
      "execution_count": 32,
      "outputs": [
        {
          "output_type": "execute_result",
          "data": {
            "text/plain": [
              "array([[654,  62],\n",
              "       [133, 312]])"
            ]
          },
          "metadata": {
            "tags": []
          },
          "execution_count": 32
        }
      ]
    },
    {
      "metadata": {
        "id": "KTw3vwo8MQ9Z",
        "colab_type": "code",
        "outputId": "927d7d5e-4d6f-4adc-afdb-4a7e80224894",
        "colab": {
          "base_uri": "https://localhost:8080/",
          "height": 136
        }
      },
      "cell_type": "code",
      "source": [
        "print(classification_report(Y_Test,rfd_Pred))"
      ],
      "execution_count": 33,
      "outputs": [
        {
          "output_type": "stream",
          "text": [
            "             precision    recall  f1-score   support\n",
            "\n",
            "          0       0.83      0.91      0.87       716\n",
            "          1       0.83      0.70      0.76       445\n",
            "\n",
            "avg / total       0.83      0.83      0.83      1161\n",
            "\n"
          ],
          "name": "stdout"
        }
      ]
    },
    {
      "metadata": {
        "id": "iA7ieNzyNTrx",
        "colab_type": "text"
      },
      "cell_type": "markdown",
      "source": [
        "# **SVM**\n"
      ]
    },
    {
      "metadata": {
        "id": "po2xUFyTJBr5",
        "colab_type": "code",
        "colab": {}
      },
      "cell_type": "code",
      "source": [
        "X_Train = X_Train_Master.copy()\n",
        "X_Test = X_Test_Master.copy()\n",
        "Y_Train = Y_Train_Master.copy()\n",
        "Y_Test = Y_Test_Master.copy()\n",
        "\n",
        "#SVM don't accept NaN value\n",
        "DropCol = [\n",
        "    'EduAllowYearDiff',\n",
        "    'EduAllowFinishedIn1y',\n",
        "    'MAX Degree'\n",
        "]\n",
        "X_Train.drop(DropCol, axis=1, inplace=True)\n",
        "X_Test.drop(DropCol, axis=1, inplace=True)"
      ],
      "execution_count": 0,
      "outputs": []
    },
    {
      "metadata": {
        "id": "dSPUuOrNNWwX",
        "colab_type": "code",
        "colab": {}
      },
      "cell_type": "code",
      "source": [
        "from sklearn import svm"
      ],
      "execution_count": 0,
      "outputs": []
    },
    {
      "metadata": {
        "id": "AbpF7QBFNsxC",
        "colab_type": "code",
        "outputId": "f5661c11-adfa-4912-b3f3-09227a216248",
        "colab": {
          "base_uri": "https://localhost:8080/",
          "height": 85
        }
      },
      "cell_type": "code",
      "source": [
        "svmModel = svm.SVC()\n",
        "svmModel.fit(X_Train, Y_Train) "
      ],
      "execution_count": 36,
      "outputs": [
        {
          "output_type": "execute_result",
          "data": {
            "text/plain": [
              "SVC(C=1.0, cache_size=200, class_weight=None, coef0=0.0,\n",
              "  decision_function_shape='ovr', degree=3, gamma='auto', kernel='rbf',\n",
              "  max_iter=-1, probability=False, random_state=None, shrinking=True,\n",
              "  tol=0.001, verbose=False)"
            ]
          },
          "metadata": {
            "tags": []
          },
          "execution_count": 36
        }
      ]
    },
    {
      "metadata": {
        "id": "efGIUtDCOMt3",
        "colab_type": "code",
        "colab": {}
      },
      "cell_type": "code",
      "source": [
        "svm_Pred = svmModel.predict(X_Test)"
      ],
      "execution_count": 0,
      "outputs": []
    },
    {
      "metadata": {
        "id": "0gtr5LPHOmLi",
        "colab_type": "code",
        "outputId": "bf730b71-1d36-4d75-9178-e9734226b21d",
        "colab": {
          "base_uri": "https://localhost:8080/",
          "height": 51
        }
      },
      "cell_type": "code",
      "source": [
        "confusion_matrix(Y_Test,svm_Pred)"
      ],
      "execution_count": 38,
      "outputs": [
        {
          "output_type": "execute_result",
          "data": {
            "text/plain": [
              "array([[658,  58],\n",
              "       [239, 206]])"
            ]
          },
          "metadata": {
            "tags": []
          },
          "execution_count": 38
        }
      ]
    },
    {
      "metadata": {
        "id": "sm_et7iTOzaH",
        "colab_type": "code",
        "outputId": "2680389b-d750-43e3-be37-289c2cb3d575",
        "colab": {
          "base_uri": "https://localhost:8080/",
          "height": 136
        }
      },
      "cell_type": "code",
      "source": [
        "print(classification_report(Y_Test,svm_Pred))"
      ],
      "execution_count": 39,
      "outputs": [
        {
          "output_type": "stream",
          "text": [
            "             precision    recall  f1-score   support\n",
            "\n",
            "          0       0.73      0.92      0.82       716\n",
            "          1       0.78      0.46      0.58       445\n",
            "\n",
            "avg / total       0.75      0.74      0.73      1161\n",
            "\n"
          ],
          "name": "stdout"
        }
      ]
    },
    {
      "metadata": {
        "id": "tECOB0oDd8ji",
        "colab_type": "text"
      },
      "cell_type": "markdown",
      "source": [
        "# **XGBoost**"
      ]
    },
    {
      "metadata": {
        "id": "QnQcJRp3J33B",
        "colab_type": "code",
        "colab": {}
      },
      "cell_type": "code",
      "source": [
        "X_Train = X_Train_Master.copy()\n",
        "X_Test = X_Test_Master.copy()\n",
        "Y_Train = Y_Train_Master.copy()\n",
        "Y_Test = Y_Test_Master.copy()"
      ],
      "execution_count": 0,
      "outputs": []
    },
    {
      "metadata": {
        "id": "JWJG4ilqd_Dx",
        "colab_type": "code",
        "outputId": "d55245d1-eca0-4cec-d1fc-09ee084cb7d7",
        "colab": {
          "base_uri": "https://localhost:8080/",
          "height": 68
        }
      },
      "cell_type": "code",
      "source": [
        "!pip install xgboost"
      ],
      "execution_count": 41,
      "outputs": [
        {
          "output_type": "stream",
          "text": [
            "Requirement already satisfied: xgboost in /usr/local/lib/python3.6/dist-packages (0.7.post4)\n",
            "Requirement already satisfied: numpy in /usr/local/lib/python3.6/dist-packages (from xgboost) (1.14.6)\n",
            "Requirement already satisfied: scipy in /usr/local/lib/python3.6/dist-packages (from xgboost) (0.19.1)\n"
          ],
          "name": "stdout"
        }
      ]
    },
    {
      "metadata": {
        "id": "x8dW0XUqeRVh",
        "colab_type": "code",
        "colab": {}
      },
      "cell_type": "code",
      "source": [
        "import xgboost as xgb"
      ],
      "execution_count": 0,
      "outputs": []
    },
    {
      "metadata": {
        "id": "JqHBhq-FeiAi",
        "colab_type": "code",
        "colab": {}
      },
      "cell_type": "code",
      "source": [
        "gbm = xgb.XGBClassifier(max_depth=3, n_estimators=300, learning_rate=0.05).fit(X_Train, Y_Train)"
      ],
      "execution_count": 0,
      "outputs": []
    },
    {
      "metadata": {
        "id": "3i09R01oKNqj",
        "colab_type": "code",
        "outputId": "48bd848c-a4db-48fc-dee3-505c31401a2e",
        "colab": {
          "base_uri": "https://localhost:8080/",
          "height": 71
        }
      },
      "cell_type": "code",
      "source": [
        "predictions = gbm.predict(X_Test)"
      ],
      "execution_count": 44,
      "outputs": [
        {
          "output_type": "stream",
          "text": [
            "/usr/local/lib/python3.6/dist-packages/sklearn/preprocessing/label.py:151: DeprecationWarning: The truth value of an empty array is ambiguous. Returning False, but in future this will result in an error. Use `array.size > 0` to check that an array is not empty.\n",
            "  if diff:\n"
          ],
          "name": "stderr"
        }
      ]
    },
    {
      "metadata": {
        "id": "OKecmPUNKdGd",
        "colab_type": "code",
        "outputId": "0c90ed0f-ba7e-4d0d-82a7-d827db788818",
        "colab": {
          "base_uri": "https://localhost:8080/",
          "height": 136
        }
      },
      "cell_type": "code",
      "source": [
        "print(classification_report(Y_Test,predictions))"
      ],
      "execution_count": 45,
      "outputs": [
        {
          "output_type": "stream",
          "text": [
            "             precision    recall  f1-score   support\n",
            "\n",
            "          0       0.86      0.91      0.88       716\n",
            "          1       0.84      0.76      0.79       445\n",
            "\n",
            "avg / total       0.85      0.85      0.85      1161\n",
            "\n"
          ],
          "name": "stdout"
        }
      ]
    },
    {
      "metadata": {
        "id": "kCwAdXAFPoh6",
        "colab_type": "text"
      },
      "cell_type": "markdown",
      "source": [
        "# **Voting Ensemble**"
      ]
    },
    {
      "metadata": {
        "id": "zaaRzYDxXSoY",
        "colab_type": "code",
        "colab": {}
      },
      "cell_type": "code",
      "source": [
        "X_Train = X_Train_Master.copy()\n",
        "X_Test = X_Test_Master.copy()\n",
        "Y_Train = Y_Train_Master.copy()\n",
        "Y_Test = Y_Test_Master.copy()\n",
        "\n",
        "#Some Models don't accept NaN value\n",
        "DropCol = [\n",
        "    'EduAllowYearDiff',\n",
        "    'EduAllowFinishedIn1y',\n",
        "    'MAX Degree'\n",
        "]\n",
        "X_Train.drop(DropCol, axis=1, inplace=True)\n",
        "X_Test.drop(DropCol, axis=1, inplace=True)"
      ],
      "execution_count": 0,
      "outputs": []
    },
    {
      "metadata": {
        "id": "kHiKffwsPrpZ",
        "colab_type": "code",
        "colab": {}
      },
      "cell_type": "code",
      "source": [
        "from sklearn.ensemble import VotingClassifier\n",
        "from sklearn import cross_validation"
      ],
      "execution_count": 0,
      "outputs": []
    },
    {
      "metadata": {
        "id": "4GnFw_JRYgGZ",
        "colab_type": "code",
        "colab": {}
      },
      "cell_type": "code",
      "source": [
        "clf1 = LogisticRegression()\n",
        "clf2 = RandomForestClassifier()\n",
        "clf3 = GaussianNB()\n",
        "clf4 = xgb.XGBClassifier(max_depth=3, n_estimators=300, learning_rate=0.05)"
      ],
      "execution_count": 0,
      "outputs": []
    },
    {
      "metadata": {
        "id": "o7jbEV0YPsQu",
        "colab_type": "code",
        "outputId": "b84e63ff-f15e-46ba-aa06-8c08c4b7651c",
        "colab": {
          "base_uri": "https://localhost:8080/",
          "height": 275
        }
      },
      "cell_type": "code",
      "source": [
        "for clf, label in zip([clf1, clf2, clf3,clf4], ['Logistic Regression', 'Random Forest', 'naive Bayes','XGBoost']):\n",
        "\n",
        "    scores = cross_validation.cross_val_score(clf, X_Train, Y_Train, cv=5, scoring='accuracy')\n",
        "    print(\"Accuracy: %0.2f (+/- %0.2f) [%s]\" % (scores.mean(), scores.std(), label))"
      ],
      "execution_count": 50,
      "outputs": [
        {
          "output_type": "stream",
          "text": [
            "Accuracy: 0.79 (+/- 0.01) [Logistic Regression]\n",
            "Accuracy: 0.82 (+/- 0.01) [Random Forest]\n",
            "Accuracy: 0.65 (+/- 0.02) [naive Bayes]\n"
          ],
          "name": "stdout"
        },
        {
          "output_type": "stream",
          "text": [
            "/usr/local/lib/python3.6/dist-packages/sklearn/preprocessing/label.py:151: DeprecationWarning: The truth value of an empty array is ambiguous. Returning False, but in future this will result in an error. Use `array.size > 0` to check that an array is not empty.\n",
            "  if diff:\n",
            "/usr/local/lib/python3.6/dist-packages/sklearn/preprocessing/label.py:151: DeprecationWarning: The truth value of an empty array is ambiguous. Returning False, but in future this will result in an error. Use `array.size > 0` to check that an array is not empty.\n",
            "  if diff:\n",
            "/usr/local/lib/python3.6/dist-packages/sklearn/preprocessing/label.py:151: DeprecationWarning: The truth value of an empty array is ambiguous. Returning False, but in future this will result in an error. Use `array.size > 0` to check that an array is not empty.\n",
            "  if diff:\n",
            "/usr/local/lib/python3.6/dist-packages/sklearn/preprocessing/label.py:151: DeprecationWarning: The truth value of an empty array is ambiguous. Returning False, but in future this will result in an error. Use `array.size > 0` to check that an array is not empty.\n",
            "  if diff:\n"
          ],
          "name": "stderr"
        },
        {
          "output_type": "stream",
          "text": [
            "Accuracy: 0.84 (+/- 0.01) [XGBoost]\n"
          ],
          "name": "stdout"
        },
        {
          "output_type": "stream",
          "text": [
            "/usr/local/lib/python3.6/dist-packages/sklearn/preprocessing/label.py:151: DeprecationWarning: The truth value of an empty array is ambiguous. Returning False, but in future this will result in an error. Use `array.size > 0` to check that an array is not empty.\n",
            "  if diff:\n"
          ],
          "name": "stderr"
        }
      ]
    },
    {
      "metadata": {
        "id": "MsjQXoHkYlZ9",
        "colab_type": "code",
        "outputId": "1a3a5299-35a0-4b69-83d1-404ce92a78e0",
        "colab": {
          "base_uri": "https://localhost:8080/",
          "height": 224
        }
      },
      "cell_type": "code",
      "source": [
        "#Hard Vote\n",
        "eclf1 = VotingClassifier(estimators=[\n",
        "        ('lr', clf1), ('rf', clf2), ('gnb', clf3),('xgb',clf4)], voting='hard')\n",
        "eclf1 = eclf1.fit(X_Train, Y_Train)\n",
        "eclf1_Pred =eclf1.predict(X_Test)\n",
        "print(eclf1_Pred)\n",
        "\n",
        "# Soft Vote\n",
        "eclf2 = VotingClassifier(estimators=[\n",
        "        ('lr', clf1), ('rf', clf2), ('gnb', clf3)],\n",
        "        voting='soft')\n",
        "eclf2 = eclf2.fit(X_Train, Y_Train)\n",
        "eclf2_Pred =eclf2.predict(X_Test)\n",
        "print(eclf2_Pred)\n",
        "\n",
        "#mock Weight\n",
        "eclf3 = VotingClassifier(estimators=[\n",
        "       ('lr', clf1), ('rf', clf2), ('gnb', clf3)],\n",
        "       voting='soft', weights=[2,1,1],\n",
        "       flatten_transform=True)\n",
        "eclf3 = eclf3.fit(X_Train, Y_Train)\n",
        "eclf3_Pred =eclf3.predict(X_Test)\n",
        "print(eclf3_Pred)"
      ],
      "execution_count": 51,
      "outputs": [
        {
          "output_type": "stream",
          "text": [
            "/usr/local/lib/python3.6/dist-packages/sklearn/preprocessing/label.py:151: DeprecationWarning: The truth value of an empty array is ambiguous. Returning False, but in future this will result in an error. Use `array.size > 0` to check that an array is not empty.\n",
            "  if diff:\n",
            "/usr/local/lib/python3.6/dist-packages/sklearn/preprocessing/label.py:151: DeprecationWarning: The truth value of an empty array is ambiguous. Returning False, but in future this will result in an error. Use `array.size > 0` to check that an array is not empty.\n",
            "  if diff:\n",
            "/usr/local/lib/python3.6/dist-packages/sklearn/preprocessing/label.py:151: DeprecationWarning: The truth value of an empty array is ambiguous. Returning False, but in future this will result in an error. Use `array.size > 0` to check that an array is not empty.\n",
            "  if diff:\n"
          ],
          "name": "stderr"
        },
        {
          "output_type": "stream",
          "text": [
            "[0 0 0 ... 1 0 0]\n",
            "[0 0 0 ... 1 0 0]\n",
            "[0 0 0 ... 1 0 0]\n"
          ],
          "name": "stdout"
        },
        {
          "output_type": "stream",
          "text": [
            "/usr/local/lib/python3.6/dist-packages/sklearn/preprocessing/label.py:151: DeprecationWarning: The truth value of an empty array is ambiguous. Returning False, but in future this will result in an error. Use `array.size > 0` to check that an array is not empty.\n",
            "  if diff:\n"
          ],
          "name": "stderr"
        }
      ]
    },
    {
      "metadata": {
        "id": "Yj_EcLwGZoJ2",
        "colab_type": "code",
        "outputId": "3283f5f9-581c-42a1-e8e6-446157932ae3",
        "colab": {
          "base_uri": "https://localhost:8080/",
          "height": 136
        }
      },
      "cell_type": "code",
      "source": [
        "print(classification_report(Y_Test,eclf1_Pred))"
      ],
      "execution_count": 52,
      "outputs": [
        {
          "output_type": "stream",
          "text": [
            "             precision    recall  f1-score   support\n",
            "\n",
            "          0       0.83      0.92      0.87       716\n",
            "          1       0.84      0.70      0.76       445\n",
            "\n",
            "avg / total       0.84      0.83      0.83      1161\n",
            "\n"
          ],
          "name": "stdout"
        }
      ]
    },
    {
      "metadata": {
        "id": "pcy3EFhzbAH0",
        "colab_type": "code",
        "outputId": "e6bfc7eb-5084-4cbc-dc8d-3c8f6df15513",
        "colab": {
          "base_uri": "https://localhost:8080/",
          "height": 136
        }
      },
      "cell_type": "code",
      "source": [
        "print(classification_report(Y_Test,eclf2_Pred))"
      ],
      "execution_count": 53,
      "outputs": [
        {
          "output_type": "stream",
          "text": [
            "             precision    recall  f1-score   support\n",
            "\n",
            "          0       0.88      0.74      0.81       716\n",
            "          1       0.67      0.84      0.74       445\n",
            "\n",
            "avg / total       0.80      0.78      0.78      1161\n",
            "\n"
          ],
          "name": "stdout"
        }
      ]
    },
    {
      "metadata": {
        "id": "0oixSJzibD-t",
        "colab_type": "code",
        "outputId": "436f850e-4b67-4ba8-95ea-2591d14bd663",
        "colab": {
          "base_uri": "https://localhost:8080/",
          "height": 136
        }
      },
      "cell_type": "code",
      "source": [
        "print(classification_report(Y_Test,eclf3_Pred))"
      ],
      "execution_count": 54,
      "outputs": [
        {
          "output_type": "stream",
          "text": [
            "             precision    recall  f1-score   support\n",
            "\n",
            "          0       0.86      0.79      0.83       716\n",
            "          1       0.71      0.79      0.75       445\n",
            "\n",
            "avg / total       0.80      0.79      0.80      1161\n",
            "\n"
          ],
          "name": "stdout"
        }
      ]
    },
    {
      "metadata": {
        "id": "Z6SqzzNBlCJ8",
        "colab_type": "code",
        "colab": {
          "base_uri": "https://localhost:8080/",
          "height": 238
        },
        "outputId": "b85e53b6-c672-4bad-d0c1-81cf538bb72b"
      },
      "cell_type": "code",
      "source": [
        "from sklearn.feature_selection import SelectKBest\n",
        "\n",
        "X_new = SelectKBest( k=20).fit_transform(X_Train, Y_Train)\n",
        "X_new"
      ],
      "execution_count": 69,
      "outputs": [
        {
          "output_type": "execute_result",
          "data": {
            "text/plain": [
              "array([[ 1.        ,  0.        ,  9.33626289, ..., 30.5       ,\n",
              "         1.25      ,  1.18181818],\n",
              "       [ 1.        ,  1.        ,  4.58873214, ...,  0.        ,\n",
              "         0.        ,  1.02272727],\n",
              "       [ 1.        ,  1.        ,  0.50377489, ...,  0.        ,\n",
              "         1.        ,  2.33333333],\n",
              "       ...,\n",
              "       [ 0.        ,  1.        , 27.00397681, ...,  0.        ,\n",
              "         3.        ,  1.72463768],\n",
              "       [ 1.        ,  1.        ,  0.5859121 , ...,  0.        ,\n",
              "         0.        ,  1.75      ],\n",
              "       [ 1.        ,  1.        ,  1.33609862, ...,  0.        ,\n",
              "         1.1       ,  1.125     ]])"
            ]
          },
          "metadata": {
            "tags": []
          },
          "execution_count": 69
        }
      ]
    },
    {
      "metadata": {
        "id": "7bURbgdgrdZ0",
        "colab_type": "code",
        "colab": {
          "base_uri": "https://localhost:8080/",
          "height": 34
        },
        "outputId": "2408c960-4835-40c7-a2b4-e90447fdd18c"
      },
      "cell_type": "code",
      "source": [
        "X_new.shape"
      ],
      "execution_count": 72,
      "outputs": [
        {
          "output_type": "execute_result",
          "data": {
            "text/plain": [
              "(2356, 20)"
            ]
          },
          "metadata": {
            "tags": []
          },
          "execution_count": 72
        }
      ]
    },
    {
      "metadata": {
        "id": "HQKzupqZsE_m",
        "colab_type": "code",
        "colab": {
          "base_uri": "https://localhost:8080/",
          "height": 727
        },
        "outputId": "f2b6b71b-fc74-4ec4-9b7e-50a635164258"
      },
      "cell_type": "code",
      "source": [
        "from sklearn.feature_selection import chi2\n",
        "X_Train = X_Train_Master.copy()\n",
        "X_Test = X_Test_Master.copy()\n",
        "Y_Train = Y_Train_Master.copy()\n",
        "Y_Test = Y_Test_Master.copy()\n",
        "\n",
        "X=X_Train.values\n",
        "Y=Y_Train.values\n",
        "test = SelectKBest(score_func=chi2, k=4)\n",
        "fit = test.fit(X,Y)\n",
        "numpy.set_printoptions(precision=3)\n",
        "print(fit.scores_)\n",
        "features = fit.transform(X)\n",
        "print(features[0:5,:])"
      ],
      "execution_count": 77,
      "outputs": [
        {
          "output_type": "error",
          "ename": "ValueError",
          "evalue": "ignored",
          "traceback": [
            "\u001b[0;31m---------------------------------------------------------------------------\u001b[0m",
            "\u001b[0;31mValueError\u001b[0m                                Traceback (most recent call last)",
            "\u001b[0;32m<ipython-input-77-05cabe7e0b23>\u001b[0m in \u001b[0;36m<module>\u001b[0;34m()\u001b[0m\n\u001b[1;32m      8\u001b[0m \u001b[0mY\u001b[0m\u001b[0;34m=\u001b[0m\u001b[0mY_Train\u001b[0m\u001b[0;34m.\u001b[0m\u001b[0mvalues\u001b[0m\u001b[0;34m\u001b[0m\u001b[0m\n\u001b[1;32m      9\u001b[0m \u001b[0mtest\u001b[0m \u001b[0;34m=\u001b[0m \u001b[0mSelectKBest\u001b[0m\u001b[0;34m(\u001b[0m\u001b[0mscore_func\u001b[0m\u001b[0;34m=\u001b[0m\u001b[0mchi2\u001b[0m\u001b[0;34m,\u001b[0m \u001b[0mk\u001b[0m\u001b[0;34m=\u001b[0m\u001b[0;36m4\u001b[0m\u001b[0;34m)\u001b[0m\u001b[0;34m\u001b[0m\u001b[0m\n\u001b[0;32m---> 10\u001b[0;31m \u001b[0mfit\u001b[0m \u001b[0;34m=\u001b[0m \u001b[0mtest\u001b[0m\u001b[0;34m.\u001b[0m\u001b[0mfit\u001b[0m\u001b[0;34m(\u001b[0m\u001b[0mX\u001b[0m\u001b[0;34m,\u001b[0m\u001b[0mY\u001b[0m\u001b[0;34m)\u001b[0m\u001b[0;34m\u001b[0m\u001b[0m\n\u001b[0m\u001b[1;32m     11\u001b[0m \u001b[0mnumpy\u001b[0m\u001b[0;34m.\u001b[0m\u001b[0mset_printoptions\u001b[0m\u001b[0;34m(\u001b[0m\u001b[0mprecision\u001b[0m\u001b[0;34m=\u001b[0m\u001b[0;36m3\u001b[0m\u001b[0;34m)\u001b[0m\u001b[0;34m\u001b[0m\u001b[0m\n\u001b[1;32m     12\u001b[0m \u001b[0mprint\u001b[0m\u001b[0;34m(\u001b[0m\u001b[0mfit\u001b[0m\u001b[0;34m.\u001b[0m\u001b[0mscores_\u001b[0m\u001b[0;34m)\u001b[0m\u001b[0;34m\u001b[0m\u001b[0m\n",
            "\u001b[0;32m/usr/local/lib/python3.6/dist-packages/sklearn/feature_selection/univariate_selection.py\u001b[0m in \u001b[0;36mfit\u001b[0;34m(self, X, y)\u001b[0m\n\u001b[1;32m    339\u001b[0m             \u001b[0mReturns\u001b[0m \u001b[0mself\u001b[0m\u001b[0;34m.\u001b[0m\u001b[0;34m\u001b[0m\u001b[0m\n\u001b[1;32m    340\u001b[0m         \"\"\"\n\u001b[0;32m--> 341\u001b[0;31m         \u001b[0mX\u001b[0m\u001b[0;34m,\u001b[0m \u001b[0my\u001b[0m \u001b[0;34m=\u001b[0m \u001b[0mcheck_X_y\u001b[0m\u001b[0;34m(\u001b[0m\u001b[0mX\u001b[0m\u001b[0;34m,\u001b[0m \u001b[0my\u001b[0m\u001b[0;34m,\u001b[0m \u001b[0;34m[\u001b[0m\u001b[0;34m'csr'\u001b[0m\u001b[0;34m,\u001b[0m \u001b[0;34m'csc'\u001b[0m\u001b[0;34m]\u001b[0m\u001b[0;34m,\u001b[0m \u001b[0mmulti_output\u001b[0m\u001b[0;34m=\u001b[0m\u001b[0;32mTrue\u001b[0m\u001b[0;34m)\u001b[0m\u001b[0;34m\u001b[0m\u001b[0m\n\u001b[0m\u001b[1;32m    342\u001b[0m \u001b[0;34m\u001b[0m\u001b[0m\n\u001b[1;32m    343\u001b[0m         \u001b[0;32mif\u001b[0m \u001b[0;32mnot\u001b[0m \u001b[0mcallable\u001b[0m\u001b[0;34m(\u001b[0m\u001b[0mself\u001b[0m\u001b[0;34m.\u001b[0m\u001b[0mscore_func\u001b[0m\u001b[0;34m)\u001b[0m\u001b[0;34m:\u001b[0m\u001b[0;34m\u001b[0m\u001b[0m\n",
            "\u001b[0;32m/usr/local/lib/python3.6/dist-packages/sklearn/utils/validation.py\u001b[0m in \u001b[0;36mcheck_X_y\u001b[0;34m(X, y, accept_sparse, dtype, order, copy, force_all_finite, ensure_2d, allow_nd, multi_output, ensure_min_samples, ensure_min_features, y_numeric, warn_on_dtype, estimator)\u001b[0m\n\u001b[1;32m    571\u001b[0m     X = check_array(X, accept_sparse, dtype, order, copy, force_all_finite,\n\u001b[1;32m    572\u001b[0m                     \u001b[0mensure_2d\u001b[0m\u001b[0;34m,\u001b[0m \u001b[0mallow_nd\u001b[0m\u001b[0;34m,\u001b[0m \u001b[0mensure_min_samples\u001b[0m\u001b[0;34m,\u001b[0m\u001b[0;34m\u001b[0m\u001b[0m\n\u001b[0;32m--> 573\u001b[0;31m                     ensure_min_features, warn_on_dtype, estimator)\n\u001b[0m\u001b[1;32m    574\u001b[0m     \u001b[0;32mif\u001b[0m \u001b[0mmulti_output\u001b[0m\u001b[0;34m:\u001b[0m\u001b[0;34m\u001b[0m\u001b[0m\n\u001b[1;32m    575\u001b[0m         y = check_array(y, 'csr', force_all_finite=True, ensure_2d=False,\n",
            "\u001b[0;32m/usr/local/lib/python3.6/dist-packages/sklearn/utils/validation.py\u001b[0m in \u001b[0;36mcheck_array\u001b[0;34m(array, accept_sparse, dtype, order, copy, force_all_finite, ensure_2d, allow_nd, ensure_min_samples, ensure_min_features, warn_on_dtype, estimator)\u001b[0m\n\u001b[1;32m    451\u001b[0m                              % (array.ndim, estimator_name))\n\u001b[1;32m    452\u001b[0m         \u001b[0;32mif\u001b[0m \u001b[0mforce_all_finite\u001b[0m\u001b[0;34m:\u001b[0m\u001b[0;34m\u001b[0m\u001b[0m\n\u001b[0;32m--> 453\u001b[0;31m             \u001b[0m_assert_all_finite\u001b[0m\u001b[0;34m(\u001b[0m\u001b[0marray\u001b[0m\u001b[0;34m)\u001b[0m\u001b[0;34m\u001b[0m\u001b[0m\n\u001b[0m\u001b[1;32m    454\u001b[0m \u001b[0;34m\u001b[0m\u001b[0m\n\u001b[1;32m    455\u001b[0m     \u001b[0mshape_repr\u001b[0m \u001b[0;34m=\u001b[0m \u001b[0m_shape_repr\u001b[0m\u001b[0;34m(\u001b[0m\u001b[0marray\u001b[0m\u001b[0;34m.\u001b[0m\u001b[0mshape\u001b[0m\u001b[0;34m)\u001b[0m\u001b[0;34m\u001b[0m\u001b[0m\n",
            "\u001b[0;32m/usr/local/lib/python3.6/dist-packages/sklearn/utils/validation.py\u001b[0m in \u001b[0;36m_assert_all_finite\u001b[0;34m(X)\u001b[0m\n\u001b[1;32m     42\u001b[0m             and not np.isfinite(X).all()):\n\u001b[1;32m     43\u001b[0m         raise ValueError(\"Input contains NaN, infinity\"\n\u001b[0;32m---> 44\u001b[0;31m                          \" or a value too large for %r.\" % X.dtype)\n\u001b[0m\u001b[1;32m     45\u001b[0m \u001b[0;34m\u001b[0m\u001b[0m\n\u001b[1;32m     46\u001b[0m \u001b[0;34m\u001b[0m\u001b[0m\n",
            "\u001b[0;31mValueError\u001b[0m: Input contains NaN, infinity or a value too large for dtype('float64')."
          ]
        }
      ]
    },
    {
      "metadata": {
        "id": "2oJW0sgls7W2",
        "colab_type": "code",
        "colab": {
          "base_uri": "https://localhost:8080/",
          "height": 34
        },
        "outputId": "4063b2ed-be84-4c47-d1e3-391bb7e80388"
      },
      "cell_type": "code",
      "source": [
        "test"
      ],
      "execution_count": 78,
      "outputs": [
        {
          "output_type": "execute_result",
          "data": {
            "text/plain": [
              "SelectKBest(k=4, score_func=<function chi2 at 0x7f062bcc7400>)"
            ]
          },
          "metadata": {
            "tags": []
          },
          "execution_count": 78
        }
      ]
    },
    {
      "metadata": {
        "id": "MnUkN3EttWTV",
        "colab_type": "code",
        "colab": {}
      },
      "cell_type": "code",
      "source": [
        "from sklearn.feature_selection import RFE\n",
        "import numpy\n",
        "\n",
        "X_Train = X_Train_Master.copy()\n",
        "X_Test = X_Test_Master.copy()\n",
        "Y_Train = Y_Train_Master.copy()\n",
        "Y_Test = Y_Test_Master.copy()\n",
        "\n",
        "model = LogisticRegression()\n",
        "\n",
        "\n"
      ],
      "execution_count": 0,
      "outputs": []
    },
    {
      "metadata": {
        "id": "_aIAPeutt8GP",
        "colab_type": "code",
        "colab": {
          "base_uri": "https://localhost:8080/",
          "height": 1547
        },
        "outputId": "1bfeb8db-09f7-402c-f43b-a262f21717e9"
      },
      "cell_type": "code",
      "source": [
        "for i in range(5,20):\n",
        "  rfe = RFE(model, i)\n",
        "  fit = rfe.fit(X_train, Y_Train)\n",
        "  print(\"Num Features: %d\"% fit.n_features_)\n",
        "  print(\"Selected Features: %s\"% fit.support_)\n",
        "  print(\"Feature Ranking: %s\"% fit.ranking_)"
      ],
      "execution_count": 108,
      "outputs": [
        {
          "output_type": "stream",
          "text": [
            "Num Features: 5\n",
            "Selected Features: [ True  True False False False False False False  True False False False\n",
            " False False False False  True  True False False False False False False\n",
            " False False False False False]\n",
            "Feature Ranking: [ 1  1  8  9 22  4 15 24  1 11  7  6  2 10 18  5  1  1 25 14 17 12 16 20\n",
            " 19 21 23 13  3]\n",
            "Num Features: 6\n",
            "Selected Features: [ True  True False False False False False False  True False False False\n",
            "  True False False False  True  True False False False False False False\n",
            " False False False False False]\n",
            "Feature Ranking: [ 1  1  7  8 21  3 14 23  1 10  6  5  1  9 17  4  1  1 24 13 16 11 15 19\n",
            " 18 20 22 12  2]\n",
            "Num Features: 7\n",
            "Selected Features: [ True  True False False False False False False  True False False False\n",
            "  True False False False  True  True False False False False False False\n",
            " False False False False  True]\n",
            "Feature Ranking: [ 1  1  6  7 20  2 13 22  1  9  5  4  1  8 16  3  1  1 23 12 15 10 14 18\n",
            " 17 19 21 11  1]\n",
            "Num Features: 8\n",
            "Selected Features: [ True  True False False False  True False False  True False False False\n",
            "  True False False False  True  True False False False False False False\n",
            " False False False False  True]\n",
            "Feature Ranking: [ 1  1  5  6 19  1 12 21  1  8  4  3  1  7 15  2  1  1 22 11 14  9 13 17\n",
            " 16 18 20 10  1]\n",
            "Num Features: 9\n",
            "Selected Features: [ True  True False False False  True False False  True False False False\n",
            "  True False False  True  True  True False False False False False False\n",
            " False False False False  True]\n",
            "Feature Ranking: [ 1  1  4  5 18  1 11 20  1  7  3  2  1  6 14  1  1  1 21 10 13  8 12 16\n",
            " 15 17 19  9  1]\n",
            "Num Features: 10\n",
            "Selected Features: [ True  True False False False  True False False  True False False  True\n",
            "  True False False  True  True  True False False False False False False\n",
            " False False False False  True]\n",
            "Feature Ranking: [ 1  1  3  4 17  1 10 19  1  6  2  1  1  5 13  1  1  1 20  9 12  7 11 15\n",
            " 14 16 18  8  1]\n",
            "Num Features: 11\n",
            "Selected Features: [ True  True False False False  True False False  True False  True  True\n",
            "  True False False  True  True  True False False False False False False\n",
            " False False False False  True]\n",
            "Feature Ranking: [ 1  1  2  3 16  1  9 18  1  5  1  1  1  4 12  1  1  1 19  8 11  6 10 14\n",
            " 13 15 17  7  1]\n",
            "Num Features: 12\n",
            "Selected Features: [ True  True  True False False  True False False  True False  True  True\n",
            "  True False False  True  True  True False False False False False False\n",
            " False False False False  True]\n",
            "Feature Ranking: [ 1  1  1  2 15  1  8 17  1  4  1  1  1  3 11  1  1  1 18  7 10  5  9 13\n",
            " 12 14 16  6  1]\n",
            "Num Features: 13\n",
            "Selected Features: [ True  True  True  True False  True False False  True False  True  True\n",
            "  True False False  True  True  True False False False False False False\n",
            " False False False False  True]\n",
            "Feature Ranking: [ 1  1  1  1 14  1  7 16  1  3  1  1  1  2 10  1  1  1 17  6  9  4  8 12\n",
            " 11 13 15  5  1]\n",
            "Num Features: 14\n",
            "Selected Features: [ True  True  True  True False  True False False  True False  True  True\n",
            "  True  True False  True  True  True False False False False False False\n",
            " False False False False  True]\n",
            "Feature Ranking: [ 1  1  1  1 13  1  6 15  1  2  1  1  1  1  9  1  1  1 16  5  8  3  7 11\n",
            " 10 12 14  4  1]\n",
            "Num Features: 15\n",
            "Selected Features: [ True  True  True  True False  True False False  True  True  True  True\n",
            "  True  True False  True  True  True False False False False False False\n",
            " False False False False  True]\n",
            "Feature Ranking: [ 1  1  1  1 12  1  5 14  1  1  1  1  1  1  8  1  1  1 15  4  7  2  6 10\n",
            "  9 11 13  3  1]\n",
            "Num Features: 16\n",
            "Selected Features: [ True  True  True  True False  True False False  True  True  True  True\n",
            "  True  True False  True  True  True False False False  True False False\n",
            " False False False False  True]\n",
            "Feature Ranking: [ 1  1  1  1 11  1  4 13  1  1  1  1  1  1  7  1  1  1 14  3  6  1  5  9\n",
            "  8 10 12  2  1]\n",
            "Num Features: 17\n",
            "Selected Features: [ True  True  True  True False  True False False  True  True  True  True\n",
            "  True  True False  True  True  True False False False  True False False\n",
            " False False False  True  True]\n",
            "Feature Ranking: [ 1  1  1  1 10  1  3 12  1  1  1  1  1  1  6  1  1  1 13  2  5  1  4  8\n",
            "  7  9 11  1  1]\n",
            "Num Features: 18\n",
            "Selected Features: [ True  True  True  True False  True False False  True  True  True  True\n",
            "  True  True False  True  True  True False  True False  True False False\n",
            " False False False  True  True]\n",
            "Feature Ranking: [ 1  1  1  1  9  1  2 11  1  1  1  1  1  1  5  1  1  1 12  1  4  1  3  7\n",
            "  6  8 10  1  1]\n",
            "Num Features: 19\n",
            "Selected Features: [ True  True  True  True False  True  True False  True  True  True  True\n",
            "  True  True False  True  True  True False  True False  True False False\n",
            " False False False  True  True]\n",
            "Feature Ranking: [ 1  1  1  1  8  1  1 10  1  1  1  1  1  1  4  1  1  1 11  1  3  1  2  6\n",
            "  5  7  9  1  1]\n"
          ],
          "name": "stdout"
        }
      ]
    },
    {
      "metadata": {
        "id": "R_xhin0gxBAa",
        "colab_type": "code",
        "colab": {
          "base_uri": "https://localhost:8080/",
          "height": 187
        },
        "outputId": "45900fbb-fef2-4a01-a8fc-6f3fd06b3348"
      },
      "cell_type": "code",
      "source": [
        "X.columns"
      ],
      "execution_count": 117,
      "outputs": [
        {
          "output_type": "execute_result",
          "data": {
            "text/plain": [
              "Index(['BSC Indicator', 'Is MPT', 'Is Re-Entry', 'Exp at Action',\n",
              "       'Age at Action', 'SUP Is MPT', 'SUP Exp at Action', 'SUP Age at Action',\n",
              "       'Is SUP', 'SUP Gender_F', 'SUP Gender_M', 'Gender_F', 'Gender_M',\n",
              "       'SUP Older Than EMP', 'Age Diff SUPvsEMP', 'EduAllowFinishedIn1y',\n",
              "       'EduAllowYearDiff', 'EDU Allowance', 'House Loan', 'Is STEM',\n",
              "       'MAX Degree', 'Year After Grad', 'countAbsence1y', 'Absence1y',\n",
              "       'countAbsenceLast3m', 'AbsenceLast3m', 'VAC_DependentCare',\n",
              "       'VAC_Maternity', 'VAC_Others', 'VAC_Personal', 'VAC_Sick',\n",
              "       'VAC_Vacation'],\n",
              "      dtype='object')"
            ]
          },
          "metadata": {
            "tags": []
          },
          "execution_count": 117
        }
      ]
    },
    {
      "metadata": {
        "id": "5opgyRA6xWQU",
        "colab_type": "code",
        "colab": {
          "base_uri": "https://localhost:8080/",
          "height": 85
        },
        "outputId": "4142628b-794a-4c49-ceac-759ba4d8eb27"
      },
      "cell_type": "code",
      "source": [
        "fit.support_"
      ],
      "execution_count": 114,
      "outputs": [
        {
          "output_type": "execute_result",
          "data": {
            "text/plain": [
              "array([ True,  True,  True,  True, False,  True,  True, False,  True,\n",
              "        True,  True,  True,  True,  True, False,  True,  True,  True,\n",
              "       False,  True, False,  True, False, False, False, False, False,\n",
              "        True,  True])"
            ]
          },
          "metadata": {
            "tags": []
          },
          "execution_count": 114
        }
      ]
    },
    {
      "metadata": {
        "id": "6NVEkrI0uC8r",
        "colab_type": "code",
        "colab": {}
      },
      "cell_type": "code",
      "source": [
        "X = X_Train"
      ],
      "execution_count": 0,
      "outputs": []
    },
    {
      "metadata": {
        "id": "ZinvcrzBu-Lm",
        "colab_type": "code",
        "colab": {
          "base_uri": "https://localhost:8080/",
          "height": 578
        },
        "outputId": "89fc84a0-2e14-41d5-9729-708d80d51dbc"
      },
      "cell_type": "code",
      "source": [
        "X.isna().any()"
      ],
      "execution_count": 100,
      "outputs": [
        {
          "output_type": "execute_result",
          "data": {
            "text/plain": [
              "BSC Indicator           False\n",
              "Is MPT                  False\n",
              "Is Re-Entry             False\n",
              "Exp at Action           False\n",
              "Age at Action           False\n",
              "SUP Is MPT              False\n",
              "SUP Exp at Action       False\n",
              "SUP Age at Action       False\n",
              "Is SUP                  False\n",
              "SUP Gender_F            False\n",
              "SUP Gender_M            False\n",
              "Gender_F                False\n",
              "Gender_M                False\n",
              "SUP Older Than EMP      False\n",
              "Age Diff SUPvsEMP       False\n",
              "EduAllowFinishedIn1y     True\n",
              "EduAllowYearDiff         True\n",
              "EDU Allowance           False\n",
              "House Loan              False\n",
              "Is STEM                 False\n",
              "MAX Degree               True\n",
              "Year After Grad         False\n",
              "countAbsence1y          False\n",
              "Absence1y               False\n",
              "countAbsenceLast3m      False\n",
              "AbsenceLast3m           False\n",
              "VAC_DependentCare       False\n",
              "VAC_Maternity           False\n",
              "VAC_Others              False\n",
              "VAC_Personal            False\n",
              "VAC_Sick                False\n",
              "VAC_Vacation            False\n",
              "dtype: bool"
            ]
          },
          "metadata": {
            "tags": []
          },
          "execution_count": 100
        }
      ]
    },
    {
      "metadata": {
        "id": "lHyWngyFvK3Y",
        "colab_type": "code",
        "colab": {}
      },
      "cell_type": "code",
      "source": [
        "X_train = X.drop(['EduAllowFinishedIn1y', 'EduAllowYearDiff', 'MAX Degree'], axis=1)"
      ],
      "execution_count": 0,
      "outputs": []
    },
    {
      "metadata": {
        "id": "01lxTOQtvgZJ",
        "colab_type": "code",
        "colab": {
          "base_uri": "https://localhost:8080/",
          "height": 401
        },
        "outputId": "95e65a52-9f15-4970-c7c6-a57c091fdc78"
      },
      "cell_type": "code",
      "source": [
        "Y_train = Y_Train.drop(['EduAllowFinishedIn1y', 'EduAllowYearDiff', 'MAX Degree'], axis=1)"
      ],
      "execution_count": 104,
      "outputs": [
        {
          "output_type": "error",
          "ename": "ValueError",
          "evalue": "ignored",
          "traceback": [
            "\u001b[0;31m---------------------------------------------------------------------------\u001b[0m",
            "\u001b[0;31mValueError\u001b[0m                                Traceback (most recent call last)",
            "\u001b[0;32m<ipython-input-104-6bd282160c14>\u001b[0m in \u001b[0;36m<module>\u001b[0;34m()\u001b[0m\n\u001b[0;32m----> 1\u001b[0;31m \u001b[0mY_train\u001b[0m \u001b[0;34m=\u001b[0m \u001b[0mY_Train\u001b[0m\u001b[0;34m.\u001b[0m\u001b[0mdrop\u001b[0m\u001b[0;34m(\u001b[0m\u001b[0;34m[\u001b[0m\u001b[0;34m'EduAllowFinishedIn1y'\u001b[0m\u001b[0;34m,\u001b[0m \u001b[0;34m'EduAllowYearDiff'\u001b[0m\u001b[0;34m,\u001b[0m \u001b[0;34m'MAX Degree'\u001b[0m\u001b[0;34m]\u001b[0m\u001b[0;34m,\u001b[0m \u001b[0maxis\u001b[0m\u001b[0;34m=\u001b[0m\u001b[0;36m1\u001b[0m\u001b[0;34m)\u001b[0m\u001b[0;34m\u001b[0m\u001b[0m\n\u001b[0m",
            "\u001b[0;32m/usr/local/lib/python3.6/dist-packages/pandas/core/generic.py\u001b[0m in \u001b[0;36mdrop\u001b[0;34m(self, labels, axis, index, columns, level, inplace, errors)\u001b[0m\n\u001b[1;32m   2516\u001b[0m                 raise ValueError(\"Cannot specify both 'labels' and \"\n\u001b[1;32m   2517\u001b[0m                                  \"'index'/'columns'\")\n\u001b[0;32m-> 2518\u001b[0;31m             \u001b[0maxis_name\u001b[0m \u001b[0;34m=\u001b[0m \u001b[0mself\u001b[0m\u001b[0;34m.\u001b[0m\u001b[0m_get_axis_name\u001b[0m\u001b[0;34m(\u001b[0m\u001b[0maxis\u001b[0m\u001b[0;34m)\u001b[0m\u001b[0;34m\u001b[0m\u001b[0m\n\u001b[0m\u001b[1;32m   2519\u001b[0m             \u001b[0maxes\u001b[0m \u001b[0;34m=\u001b[0m \u001b[0;34m{\u001b[0m\u001b[0maxis_name\u001b[0m\u001b[0;34m:\u001b[0m \u001b[0mlabels\u001b[0m\u001b[0;34m}\u001b[0m\u001b[0;34m\u001b[0m\u001b[0m\n\u001b[1;32m   2520\u001b[0m         \u001b[0;32melif\u001b[0m \u001b[0mindex\u001b[0m \u001b[0;32mis\u001b[0m \u001b[0;32mnot\u001b[0m \u001b[0;32mNone\u001b[0m \u001b[0;32mor\u001b[0m \u001b[0mcolumns\u001b[0m \u001b[0;32mis\u001b[0m \u001b[0;32mnot\u001b[0m \u001b[0;32mNone\u001b[0m\u001b[0;34m:\u001b[0m\u001b[0;34m\u001b[0m\u001b[0m\n",
            "\u001b[0;32m/usr/local/lib/python3.6/dist-packages/pandas/core/generic.py\u001b[0m in \u001b[0;36m_get_axis_name\u001b[0;34m(self, axis)\u001b[0m\n\u001b[1;32m    368\u001b[0m                 \u001b[0;32mpass\u001b[0m\u001b[0;34m\u001b[0m\u001b[0m\n\u001b[1;32m    369\u001b[0m         raise ValueError('No axis named {0} for object type {1}'\n\u001b[0;32m--> 370\u001b[0;31m                          .format(axis, type(self)))\n\u001b[0m\u001b[1;32m    371\u001b[0m \u001b[0;34m\u001b[0m\u001b[0m\n\u001b[1;32m    372\u001b[0m     \u001b[0;32mdef\u001b[0m \u001b[0m_get_axis\u001b[0m\u001b[0;34m(\u001b[0m\u001b[0mself\u001b[0m\u001b[0;34m,\u001b[0m \u001b[0maxis\u001b[0m\u001b[0;34m)\u001b[0m\u001b[0;34m:\u001b[0m\u001b[0;34m\u001b[0m\u001b[0m\n",
            "\u001b[0;31mValueError\u001b[0m: No axis named 1 for object type <class 'pandas.core.series.Series'>"
          ]
        }
      ]
    },
    {
      "metadata": {
        "id": "a9B99Jm_vzfI",
        "colab_type": "code",
        "colab": {
          "base_uri": "https://localhost:8080/",
          "height": 1071
        },
        "outputId": "da4a4e35-df20-4a0a-a363-5524ec0c6192"
      },
      "cell_type": "code",
      "source": [
        "Y_Train"
      ],
      "execution_count": 105,
      "outputs": [
        {
          "output_type": "execute_result",
          "data": {
            "text/plain": [
              "2114    0\n",
              "2685    0\n",
              "3358    0\n",
              "3380    0\n",
              "3221    0\n",
              "2701    0\n",
              "2057    0\n",
              "1281    1\n",
              "2436    1\n",
              "2715    0\n",
              "628     1\n",
              "2767    0\n",
              "2166    1\n",
              "3378    0\n",
              "3326    0\n",
              "2747    0\n",
              "2065    1\n",
              "1570    1\n",
              "2327    1\n",
              "2871    0\n",
              "1760    1\n",
              "1804    0\n",
              "2724    0\n",
              "2624    0\n",
              "3106    0\n",
              "954     0\n",
              "1202    0\n",
              "1367    0\n",
              "1828    0\n",
              "544     1\n",
              "       ..\n",
              "966     0\n",
              "1224    0\n",
              "3160    1\n",
              "3343    0\n",
              "655     0\n",
              "1618    1\n",
              "174     0\n",
              "3494    0\n",
              "2170    1\n",
              "1818    1\n",
              "3042    1\n",
              "101     1\n",
              "2364    0\n",
              "2805    0\n",
              "884     0\n",
              "1486    1\n",
              "3101    0\n",
              "2444    1\n",
              "1461    0\n",
              "2059    1\n",
              "45      0\n",
              "3475    0\n",
              "160     0\n",
              "2968    0\n",
              "274     1\n",
              "407     0\n",
              "2321    1\n",
              "282     0\n",
              "2816    1\n",
              "2439    1\n",
              "Name: Resigned, Length: 2356, dtype: int64"
            ]
          },
          "metadata": {
            "tags": []
          },
          "execution_count": 105
        }
      ]
    },
    {
      "metadata": {
        "id": "83-rHOpyv8h6",
        "colab_type": "code",
        "colab": {}
      },
      "cell_type": "code",
      "source": [
        ""
      ],
      "execution_count": 0,
      "outputs": []
    }
  ]
}